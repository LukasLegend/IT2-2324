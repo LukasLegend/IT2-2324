{
 "cells": [
  {
   "cell_type": "code",
   "execution_count": 1,
   "metadata": {},
   "outputs": [
    {
     "name": "stdout",
     "output_type": "stream",
     "text": [
      "hallo verden\n"
     ]
    }
   ],
   "source": [
    "print(\"hallo verden\")"
   ]
  },
  {
   "cell_type": "code",
   "execution_count": null,
   "metadata": {},
   "outputs": [],
   "source": [
    "#dokumentasjon og kommentarer\n",
    "\n",
    "#plan\n",
    "\n",
    "# 1.hvorforkommentere/dokumentere\n",
    "#2 Kommentarer vs dokumentasjon\n",
    "#3 Kommentar"
   ]
  },
  {
   "cell_type": "code",
   "execution_count": 2,
   "metadata": {},
   "outputs": [
    {
     "data": {
      "text/plain": [
       "'code is more often read than written - skaperen av python'"
      ]
     },
     "execution_count": 2,
     "metadata": {},
     "output_type": "execute_result"
    }
   ],
   "source": [
    "#hvorfor dokumenterer og kommenterer man?\n",
    "\n",
    "\"code is more often read than written - skaperen av python\""
   ]
  },
  {
   "cell_type": "code",
   "execution_count": null,
   "metadata": {},
   "outputs": [],
   "source": [
    "def ta_på_regntøy(vær):\n",
    "    #Sjekker om været er regn\n",
    "    if vær == \"regn\":\n",
    "        #Returnerer True hvis været er regn\n",
    "        return True\n",
    "    else:\n",
    "        #Returnerer false hvis været ikke er regn\n",
    "        return False\n",
    "    "
   ]
  },
  {
   "cell_type": "code",
   "execution_count": 5,
   "metadata": {},
   "outputs": [
    {
     "ename": "ValueError",
     "evalue": "could not convert string to float: ''",
     "output_type": "error",
     "traceback": [
      "\u001b[0;31m---------------------------------------------------------------------------\u001b[0m",
      "\u001b[0;31mValueError\u001b[0m                                Traceback (most recent call last)",
      "Cell \u001b[0;32mIn[5], line 6\u001b[0m\n\u001b[1;32m      1\u001b[0m \u001b[38;5;66;03m# 2. Hva gjør koden?\u001b[39;00m\n\u001b[1;32m      2\u001b[0m \u001b[38;5;66;03m# DONE svar på oppgave 2 her: Koden tar grunnlinjen og høyden til en trekant for å finne arealet.\u001b[39;00m\n\u001b[1;32m      3\u001b[0m  \n\u001b[1;32m      4\u001b[0m \u001b[38;5;66;03m# 3. Legg på kommentarer slik at koden blir forståelig for andre\u001b[39;00m\n\u001b[1;32m      5\u001b[0m \u001b[38;5;66;03m#Definererer grunnlinjen som variabel \"a\" og konverterer til flyttall\u001b[39;00m\n\u001b[0;32m----> 6\u001b[0m a \u001b[38;5;241m=\u001b[39m \u001b[38;5;28;43mfloat\u001b[39;49m\u001b[43m(\u001b[49m\u001b[38;5;28;43minput\u001b[39;49m\u001b[43m(\u001b[49m\u001b[38;5;124;43m\"\u001b[39;49m\u001b[38;5;124;43mGrunnlinje (cm): \u001b[39;49m\u001b[38;5;124;43m\"\u001b[39;49m\u001b[43m)\u001b[49m\u001b[43m)\u001b[49m\n\u001b[1;32m      7\u001b[0m \u001b[38;5;66;03m#Definerer høyden som variabel \"b\" og konverterer til flyttall\u001b[39;00m\n\u001b[1;32m      8\u001b[0m b \u001b[38;5;241m=\u001b[39m \u001b[38;5;28mfloat\u001b[39m(\u001b[38;5;28minput\u001b[39m(\u001b[38;5;124m\"\u001b[39m\u001b[38;5;124mHøyde (cm): \u001b[39m\u001b[38;5;124m\"\u001b[39m))\n",
      "\u001b[0;31mValueError\u001b[0m: could not convert string to float: ''"
     ]
    }
   ],
   "source": [
    "# 2. Hva gjør koden?\n",
    "# DONE svar på oppgave 2 her: Koden tar grunnlinjen og høyden til en trekant for å finne arealet.\n",
    " \n",
    "# 3. Legg på kommentarer slik at koden blir forståelig for andre\n",
    "#Definererer grunnlinjen som variabel \"a\" og konverterer til flyttall\n",
    "a = float(input(\"Grunnlinje (cm): \"))\n",
    "#Definerer høyden som variabel \"b\" og konverterer til flyttall\n",
    "b = float(input(\"Høyde (cm): \"))\n",
    " \n",
    "#Finner arealet ved å ta grunnlingen (a) multiplisert med høyden (b) og deler det på 2 for å få arealet til trekanten.\n",
    "c = a*b/2\n",
    "#Printer arealet som er definert som C\n",
    "print(f\"Arealet er {c} cm^2\")\n",
    " \n",
    "## ------\n",
    "# 4. Fjern alle kommentarer og endre koden slik at den blir enklere å forstå\n",
    "# 5. Se over koden og legg på eventuelle nødvendige kommentarer\n",
    " \n",
    "# DONE Lim inn koden på nytt her\n",
    "grunnlinje = float(input(\"Grunnlinje (cm): \"))\n",
    "høyde = float(input(\"Høyde (cm): \"))\n",
    " \n",
    "areal_trekant = grunnlinje*høyde/2\n",
    "#Printer arealet som er definert som C\n",
    "print(f\"Arealet er {areal_trekant} cm^2\")\n",
    " "
   ]
  },
  {
   "cell_type": "code",
   "execution_count": null,
   "metadata": {},
   "outputs": [],
   "source": [
    "# 2. Hva gjør koden?\n",
    "# DONE svar på oppgave 2 her: Koden legger til ueksisterende nasjonaliteter i ordboken \"antall\"\n",
    "#, og gir dem verdien 1. Hvis den samme nasjonaliteten kommer på nytt i listen, økes verdien med 1.\n",
    "# 3. Legg på kommentarer slik at koden blir forståelig for andre\n",
    "\n",
    "#Liste med informasjon om f1 sjofører\n",
    "f1 = [\n",
    "    {\"navn\": \"Max Verstappen\", \"nasjonalitet\": \"nederlandsk\", \"team\": \"Red Bull Racing\", \"bilnummer\": 1},\n",
    "    {\"navn\": \"Sergio Perez\", \"nasjonalitet\": \"meksikansk\", \"team\": \"Red Bull Racing\", \"bilnummer\": 11},\n",
    "    {\"navn\": \"Lewis Hamilton\", \"nasjonalitet\": \"britisk\", \"team\": \"Mercedes\", \"bilnummer\": 44},\n",
    "    {\"navn\": \"George Russell\", \"nasjonalitet\": \"britisk\", \"team\": \"Mercedes\", \"bilnummer\": 63},\n",
    "    {\"navn\": \"Charles Leclerc\", \"nasjonalitet\": \"monegaskisk\", \"team\": \"Ferrari\", \"bilnummer\": 16},\n",
    "    {\"navn\": \"Kevin Magnussen\", \"nasjonalitet\": \"dansk\", \"team\": \"Haas F1 Team\", \"bilnummer\": 20},\n",
    "    {\"navn\": \"Nico Hulkenberg\", \"nasjonalitet\": \"tysk\", \"team\": \"Haas F1 Team\", \"bilnummer\": 27}\n",
    "]\n",
    " \n",
    " #lager ny liste\n",
    "antall = {}\n",
    " \n",
    "for s in f1:         \n",
    "  #Sjekker om nasjonaliteten er i antall\n",
    "  if s['nasjonalitet'] not in antall:\n",
    "    #hvis den ikke er det legges den til med verdien 1\n",
    "    antall[s['nasjonalitet']] = 1\n",
    "    \n",
    "  else:\n",
    "    #Hvis nasjaliteten allerede finnes skal den adderes med 1\n",
    "    antall[s['nasjonalitet']] += 1\n",
    " \n",
    "print(antall[\"britisk\"])\n",
    "print(antall[\"spansk\"])\n",
    " \n",
    "## ------\n",
    "# 4. Fjern alle kommentarer og endre koden slik at den blir enklere å forstå\n",
    "# 5. Se over koden, og legg på eventuelle kommentarer\n",
    " \n",
    "# DONE Lim inn koden på nytt under her, og endre koden:\n",
    "\n",
    "f1_sjofører = [\n",
    "    {\"navn\": \"Max Verstappen\", \"nasjonalitet\": \"nederlandsk\", \"team\": \"Red Bull Racing\", \"bilnummer\": 1},\n",
    "    {\"navn\": \"Sergio Perez\", \"nasjonalitet\": \"meksikansk\", \"team\": \"Red Bull Racing\", \"bilnummer\": 11},\n",
    "    {\"navn\": \"Lewis Hamilton\", \"nasjonalitet\": \"britisk\", \"team\": \"Mercedes\", \"bilnummer\": 44},\n",
    "    {\"navn\": \"George Russell\", \"nasjonalitet\": \"britisk\", \"team\": \"Mercedes\", \"bilnummer\": 63},\n",
    "    {\"navn\": \"Charles Leclerc\", \"nasjonalitet\": \"monegaskisk\", \"team\": \"Ferrari\", \"bilnummer\": 16},\n",
    "    {\"navn\": \"Kevin Magnussen\", \"nasjonalitet\": \"dansk\", \"team\": \"Haas F1 Team\", \"bilnummer\": 20},\n",
    "    {\"navn\": \"Nico Hulkenberg\", \"nasjonalitet\": \"tysk\", \"team\": \"Haas F1 Team\", \"bilnummer\": 27}\n",
    "]\n",
    " \n",
    "antall = {}\n",
    " \n",
    "for sjofør in f1_sjofører:         \n",
    "  #Hvis sjoførens nasjonalitet ikke er i listen, legg til med verdi 1\n",
    "  if sjofør['nasjonalitet'] not in antall:\n",
    "    antall[sjofør['nasjonalitet']] = 1\n",
    "  else:\n",
    "    #hvis nasjonalitet allerede finnes,\n",
    "    antall[sjofør['nasjonalitet']] += 1\n",
    " \n",
    "print(antall[\"britisk\"])\n",
    "print(antall[\"spansk\"])\n",
    " \n",
    " "
   ]
  },
  {
   "cell_type": "code",
   "execution_count": null,
   "metadata": {},
   "outputs": [],
   "source": []
  }
 ],
 "metadata": {
  "kernelspec": {
   "display_name": "Python 3",
   "language": "python",
   "name": "python3"
  },
  "language_info": {
   "codemirror_mode": {
    "name": "ipython",
    "version": 3
   },
   "file_extension": ".py",
   "mimetype": "text/x-python",
   "name": "python",
   "nbconvert_exporter": "python",
   "pygments_lexer": "ipython3",
   "version": "3.11.1"
  }
 },
 "nbformat": 4,
 "nbformat_minor": 2
}
