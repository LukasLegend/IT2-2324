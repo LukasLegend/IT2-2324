{
 "cells": [
  {
   "cell_type": "code",
   "execution_count": 2,
   "metadata": {},
   "outputs": [
    {
     "name": "stdout",
     "output_type": "stream",
     "text": [
      "<class 'list'>\n"
     ]
    }
   ],
   "source": [
    "import json\n",
    "with open(\"imdb.json\") as fil:\n",
    "    data = json.load(fil)\n",
    "print(type(data))"
   ]
  },
  {
   "cell_type": "code",
   "execution_count": 3,
   "metadata": {},
   "outputs": [
    {
     "name": "stdout",
     "output_type": "stream",
     "text": [
      "The Shawshank Redemption\n"
     ]
    }
   ],
   "source": [
    "høyest = data[0]\n",
    "for film in data:\n",
    "    if film[\"karakter\"] > høyest[\"karakter\"]:\n",
    "        høyest = film\n",
    "        \n",
    "print(høyest[\"navn\"])"
   ]
  },
  {
   "cell_type": "code",
   "execution_count": 9,
   "metadata": {},
   "outputs": [
    {
     "name": "stdout",
     "output_type": "stream",
     "text": [
      "9.02\n"
     ]
    }
   ],
   "source": [
    "filmer_sortert = sorted(data, key=lambda film:film[\"karakter\"], reverse=True)\n",
    "ti_første = filmer_sortert[:10] # lager liste som inneholder 10 førrste filmene\n",
    "total_karakter_10_første = 0\n",
    "for film in ti_første:\n",
    "    total_karakter_10_første += film[\"karakter\"]\n",
    "snittkarakter_10_første = total_karakter_10_første/ len(ti_første)\n",
    "print(snittkarakter_10_første)"
   ]
  },
  {
   "cell_type": "code",
   "execution_count": 10,
   "metadata": {},
   "outputs": [
    {
     "name": "stdout",
     "output_type": "stream",
     "text": [
      "8.32199999999999\n"
     ]
    }
   ],
   "source": [
    "total = 0\n",
    "antall = 0\n",
    "for film in data:\n",
    "    total += film[\"karakter\"]\n",
    "    antall += 1\n",
    "sum = total/antall\n",
    "print(sum)"
   ]
  },
  {
   "cell_type": "code",
   "execution_count": null,
   "metadata": {},
   "outputs": [],
   "source": []
  }
 ],
 "metadata": {
  "kernelspec": {
   "display_name": "Python 3",
   "language": "python",
   "name": "python3"
  },
  "language_info": {
   "codemirror_mode": {
    "name": "ipython",
    "version": 3
   },
   "file_extension": ".py",
   "mimetype": "text/x-python",
   "name": "python",
   "nbconvert_exporter": "python",
   "pygments_lexer": "ipython3",
   "version": "3.11.1"
  }
 },
 "nbformat": 4,
 "nbformat_minor": 2
}
