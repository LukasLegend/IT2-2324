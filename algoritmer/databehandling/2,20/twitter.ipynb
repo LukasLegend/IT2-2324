{
 "cells": [
  {
   "cell_type": "code",
   "execution_count": 1,
   "metadata": {},
   "outputs": [
    {
     "name": "stdout",
     "output_type": "stream",
     "text": [
      "<class 'list'>\n"
     ]
    }
   ],
   "source": [
    "import json\n",
    "with open(\"twitter.json\") as fil:\n",
    "    data = json.load(fil)\n",
    "print(type(data))\n"
   ]
  },
  {
   "cell_type": "code",
   "execution_count": 10,
   "metadata": {},
   "outputs": [
    {
     "name": "stdout",
     "output_type": "stream",
     "text": [
      "elonmusk\n",
      "BarackObama\n",
      "Cristiano\n",
      "justinbieber\n",
      "rihanna\n",
      "katyperry\n",
      "narendramodi\n",
      "taylorswift13\n",
      "realDonaldTrump\n",
      "ArianaGrande\n"
     ]
    }
   ],
   "source": [
    "mest_fulgte_sortert = sorted(data, key=lambda data: data[\"followers\"], reverse=True)\n",
    "for i in range(10):\n",
    "    print(mest_fulgte_sortert[i][\"username\"])\n",
    "\n",
    "\n",
    "\n",
    "    "
   ]
  },
  {
   "cell_type": "code",
   "execution_count": 13,
   "metadata": {},
   "outputs": [
    {
     "name": "stdout",
     "output_type": "stream",
     "text": [
      "Brukernavn: elonmusk Følgere: 180483638 Antall tweets: 42318\n",
      "Brukernavn: BarackObama Følgere: 131876712 Antall tweets: 17016\n",
      "Brukernavn: Cristiano Følgere: 111007811 Antall tweets: 4061\n",
      "Brukernavn: justinbieber Følgere: 110939914 Antall tweets: 31176\n",
      "Brukernavn: rihanna Følgere: 107958168 Antall tweets: 10718\n",
      "Brukernavn: katyperry Følgere: 106547420 Antall tweets: 11990\n",
      "Brukernavn: narendramodi Følgere: 97228794 Antall tweets: 41209\n",
      "Brukernavn: taylorswift13 Følgere: 95267900 Antall tweets: 828\n",
      "Brukernavn: realDonaldTrump Følgere: 87352378 Antall tweets: 59120\n",
      "Brukernavn: ArianaGrande Følgere: 85268269 Antall tweets: 47154\n"
     ]
    }
   ],
   "source": [
    "for i in range(10):\n",
    "    print(f\"Brukernavn: {mest_fulgte_sortert[i]['username']} Følgere: {mest_fulgte_sortert[i]['followers']} Antall tweets: {mest_fulgte_sortert[i]['tweets']}\")"
   ]
  },
  {
   "cell_type": "code",
   "execution_count": 15,
   "metadata": {},
   "outputs": [
    {
     "name": "stdout",
     "output_type": "stream",
     "text": [
      "Brukernavn: elonmusk Følgere: 180483638 Antall tweets: 42318 Følgere/følger ratio: 314431.425087108\n",
      "Brukernavn: BarackObama Følgere: 131876712 Antall tweets: 17016 Følgere/følger ratio: 242.85792788479245\n",
      "Brukernavn: Cristiano Følgere: 111007811 Antall tweets: 4061 Følgere/følger ratio: 1608808.8550724639\n",
      "Brukernavn: justinbieber Følgere: 110939914 Antall tweets: 31176 Følgere/følger ratio: 404.6967106967107\n",
      "Brukernavn: rihanna Følgere: 107958168 Antall tweets: 10718 Følgere/følger ratio: 111411.93808049535\n",
      "Brukernavn: katyperry Følgere: 106547420 Antall tweets: 11990 Følgere/følger ratio: 442105.47717842326\n",
      "Brukernavn: narendramodi Følgere: 97228794 Antall tweets: 41209 Følgere/følger ratio: 36511.000375516334\n",
      "Brukernavn: taylorswift13 Følgere: 95267900 Antall tweets: 828 Følgere/følger ratio: Brukeren følger ingen\n",
      "Brukernavn: realDonaldTrump Følgere: 87352378 Antall tweets: 59120 Følgere/følger ratio: 1712791.7254901961\n",
      "Brukernavn: ArianaGrande Følgere: 85268269 Antall tweets: 47154 Følgere/følger ratio: 1536.5313187011209\n"
     ]
    }
   ],
   "source": [
    "def ratio(følgere, følger):\n",
    "    if følger > 0:\n",
    "        ratioen = følgere/følger\n",
    "        return ratioen\n",
    "    else:\n",
    "        return(\"Brukeren følger ingen\")\n",
    "\n",
    "for i in range(10):\n",
    "    print(f\"Brukernavn: {mest_fulgte_sortert[i]['username']} Følgere: {mest_fulgte_sortert[i]['followers']} Antall tweets: {mest_fulgte_sortert[i]['tweets']} Følgere/følger ratio: {ratio(mest_fulgte_sortert[i]['followers'],mest_fulgte_sortert[i]['following'])}\")"
   ]
  }
 ],
 "metadata": {
  "kernelspec": {
   "display_name": "Python 3",
   "language": "python",
   "name": "python3"
  },
  "language_info": {
   "codemirror_mode": {
    "name": "ipython",
    "version": 3
   },
   "file_extension": ".py",
   "mimetype": "text/x-python",
   "name": "python",
   "nbconvert_exporter": "python",
   "pygments_lexer": "ipython3",
   "version": "3.11.1"
  }
 },
 "nbformat": 4,
 "nbformat_minor": 2
}
