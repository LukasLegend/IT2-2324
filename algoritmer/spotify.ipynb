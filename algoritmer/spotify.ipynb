{
 "cells": [
  {
   "cell_type": "code",
   "execution_count": 1,
   "metadata": {},
   "outputs": [
    {
     "name": "stdout",
     "output_type": "stream",
     "text": [
      "hallo verden!\n"
     ]
    }
   ],
   "source": [
    "print(\"hallo verden!\")"
   ]
  },
  {
   "cell_type": "code",
   "execution_count": 2,
   "metadata": {},
   "outputs": [
    {
     "name": "stdout",
     "output_type": "stream",
     "text": [
      "<class 'list'>\n"
     ]
    }
   ],
   "source": [
    "import json\n",
    "with open(\"spotify-weekly-top-songs-global-uke2-2023.json\") as fil:\n",
    "    data = json.load(fil)\n",
    "print(type(data))"
   ]
  },
  {
   "cell_type": "code",
   "execution_count": 3,
   "metadata": {},
   "outputs": [
    {
     "data": {
      "text/plain": [
       "5"
      ]
     },
     "execution_count": 3,
     "metadata": {},
     "output_type": "execute_result"
    }
   ],
   "source": [
    "data[0][\"uker_paa_listen\"] #henter ut uker på listen fra første sangen\n"
   ]
  },
  {
   "cell_type": "code",
   "execution_count": 4,
   "metadata": {},
   "outputs": [
    {
     "data": {
      "text/plain": [
       "358"
      ]
     },
     "execution_count": 4,
     "metadata": {},
     "output_type": "execute_result"
    }
   ],
   "source": [
    "høyest = data[0][\"uker_paa_listen\"]\n",
    "for sang in data:\n",
    "    if sang[\"uker_paa_listen\"] > høyest:\n",
    "        høyest = sang[\"uker_paa_listen\"]\n",
    "høyest"
   ]
  },
  {
   "cell_type": "code",
   "execution_count": 5,
   "metadata": {},
   "outputs": [
    {
     "name": "stdout",
     "output_type": "stream",
     "text": [
      "Believer 358\n"
     ]
    }
   ],
   "source": [
    "høyest = data[0][\"uker_paa_listen\"]\n",
    "høyest_sang = data[0][\"navn\"]\n",
    "for sang in data:\n",
    "    if sang[\"uker_paa_listen\"] > høyest:\n",
    "        høyest = sang[\"uker_paa_listen\"]\n",
    "        høyest_sang = sang[\"navn\"]\n",
    "print(høyest_sang, høyest)"
   ]
  },
  {
   "cell_type": "code",
   "execution_count": 6,
   "metadata": {},
   "outputs": [
    {
     "ename": "TypeError",
     "evalue": "'dict' object is not callable",
     "output_type": "error",
     "traceback": [
      "\u001b[0;31m---------------------------------------------------------------------------\u001b[0m",
      "\u001b[0;31mTypeError\u001b[0m                                 Traceback (most recent call last)",
      "Cell \u001b[0;32mIn[6], line 5\u001b[0m\n\u001b[1;32m      3\u001b[0m høyest_navn \u001b[38;5;241m=\u001b[39m \u001b[38;5;124m\"\u001b[39m\u001b[38;5;124m\"\u001b[39m\n\u001b[1;32m      4\u001b[0m \u001b[38;5;28;01mfor\u001b[39;00m sang \u001b[38;5;129;01min\u001b[39;00m data:\n\u001b[0;32m----> 5\u001b[0m     \u001b[38;5;28mprint\u001b[39m(\u001b[43msang\u001b[49m\u001b[43m(\u001b[49m\u001b[38;5;124;43m\"\u001b[39;49m\u001b[38;5;124;43martist\u001b[39;49m\u001b[38;5;124;43m\"\u001b[39;49m\u001b[43m)\u001b[49m, sang(\u001b[38;5;124m\"\u001b[39m\u001b[38;5;124mnavn\u001b[39m\u001b[38;5;124m\"\u001b[39m), sang(\u001b[38;5;124m\"\u001b[39m\u001b[38;5;124muker_paa_listen\u001b[39m\u001b[38;5;124m\"\u001b[39m))\n\u001b[1;32m      6\u001b[0m     sang_uker \u001b[38;5;241m=\u001b[39m sang(\u001b[38;5;124m\"\u001b[39m\u001b[38;5;124muker_paa_listen\u001b[39m\u001b[38;5;124m\"\u001b[39m)\n\u001b[1;32m      7\u001b[0m     sang_artist \u001b[38;5;241m=\u001b[39m sang(\u001b[38;5;124m\"\u001b[39m\u001b[38;5;124martist\u001b[39m\u001b[38;5;124m\"\u001b[39m)\n",
      "\u001b[0;31mTypeError\u001b[0m: 'dict' object is not callable"
     ]
    }
   ],
   "source": [
    "høyest_uker = -1\n",
    "høyest_artist = \"\"\n",
    "høyest_navn = \"\"\n",
    "for sang in data:\n",
    "    print(sang(\"artist\"), sang(\"navn\"), sang(\"uker_paa_listen\"))\n",
    "    sang_uker = sang(\"uker_paa_listen\")\n",
    "    sang_artist = sang(\"artist\")\n",
    "    sang_navn = sang(\"navn\")\n",
    "    if sang_uker > høyest_uker:\n",
    "        høyest_uker = sang_uker\n",
    "        "
   ]
  },
  {
   "cell_type": "code",
   "execution_count": 7,
   "metadata": {},
   "outputs": [
    {
     "name": "stdout",
     "output_type": "stream",
     "text": [
      "{'navn': 'La Diabla', 'artist': 'Xavi', 'bilde_url': 'https://i.scdn.co/image/ab67616d00001e021501c770de50a22b25d67611', 'plassering': 1, 'forrige_plassering': 1, 'topplassering': 1, 'topp_dato': '2024-01-11', 'uker_paa_listen': 5, 'antall_streams': 34195950}\n",
      "{'navn': 'greedy', 'artist': 'Tate McRae', 'bilde_url': 'https://i.scdn.co/image/ab67616d00001e0222fd802bc61db666c7c81aa8', 'plassering': 2, 'forrige_plassering': 2, 'topplassering': 1, 'topp_dato': '2023-11-16', 'uker_paa_listen': 17, 'antall_streams': 34059012}\n",
      "{'navn': 'greedy', 'artist': 'Tate McRae', 'bilde_url': 'https://i.scdn.co/image/ab67616d00001e0222fd802bc61db666c7c81aa8', 'plassering': 2, 'forrige_plassering': 2, 'topplassering': 1, 'topp_dato': '2023-11-16', 'uker_paa_listen': 17, 'antall_streams': 34059012}\n",
      "{'navn': 'Cruel Summer', 'artist': 'Taylor Swift', 'bilde_url': 'https://i.scdn.co/image/ab67616d00001e02e787cffec20aa2a396a61647', 'plassering': 4, 'forrige_plassering': 4, 'topplassering': 2, 'topp_dato': '2023-07-06', 'uker_paa_listen': 49, 'antall_streams': 28511866}\n",
      "{'navn': 'Cruel Summer', 'artist': 'Taylor Swift', 'bilde_url': 'https://i.scdn.co/image/ab67616d00001e02e787cffec20aa2a396a61647', 'plassering': 4, 'forrige_plassering': 4, 'topplassering': 2, 'topp_dato': '2023-07-06', 'uker_paa_listen': 49, 'antall_streams': 28511866}\n",
      "{'navn': 'Cruel Summer', 'artist': 'Taylor Swift', 'bilde_url': 'https://i.scdn.co/image/ab67616d00001e02e787cffec20aa2a396a61647', 'plassering': 4, 'forrige_plassering': 4, 'topplassering': 2, 'topp_dato': '2023-07-06', 'uker_paa_listen': 49, 'antall_streams': 28511866}\n",
      "{'navn': 'Cruel Summer', 'artist': 'Taylor Swift', 'bilde_url': 'https://i.scdn.co/image/ab67616d00001e02e787cffec20aa2a396a61647', 'plassering': 4, 'forrige_plassering': 4, 'topplassering': 2, 'topp_dato': '2023-07-06', 'uker_paa_listen': 49, 'antall_streams': 28511866}\n",
      "{'navn': 'Cruel Summer', 'artist': 'Taylor Swift', 'bilde_url': 'https://i.scdn.co/image/ab67616d00001e02e787cffec20aa2a396a61647', 'plassering': 4, 'forrige_plassering': 4, 'topplassering': 2, 'topp_dato': '2023-07-06', 'uker_paa_listen': 49, 'antall_streams': 28511866}\n",
      "{'navn': 'Cruel Summer', 'artist': 'Taylor Swift', 'bilde_url': 'https://i.scdn.co/image/ab67616d00001e02e787cffec20aa2a396a61647', 'plassering': 4, 'forrige_plassering': 4, 'topplassering': 2, 'topp_dato': '2023-07-06', 'uker_paa_listen': 49, 'antall_streams': 28511866}\n",
      "{'navn': 'Cruel Summer', 'artist': 'Taylor Swift', 'bilde_url': 'https://i.scdn.co/image/ab67616d00001e02e787cffec20aa2a396a61647', 'plassering': 4, 'forrige_plassering': 4, 'topplassering': 2, 'topp_dato': '2023-07-06', 'uker_paa_listen': 49, 'antall_streams': 28511866}\n",
      "{'navn': 'Cruel Summer', 'artist': 'Taylor Swift', 'bilde_url': 'https://i.scdn.co/image/ab67616d00001e02e787cffec20aa2a396a61647', 'plassering': 4, 'forrige_plassering': 4, 'topplassering': 2, 'topp_dato': '2023-07-06', 'uker_paa_listen': 49, 'antall_streams': 28511866}\n",
      "{'navn': 'Cruel Summer', 'artist': 'Taylor Swift', 'bilde_url': 'https://i.scdn.co/image/ab67616d00001e02e787cffec20aa2a396a61647', 'plassering': 4, 'forrige_plassering': 4, 'topplassering': 2, 'topp_dato': '2023-07-06', 'uker_paa_listen': 49, 'antall_streams': 28511866}\n",
      "{'navn': 'Cruel Summer', 'artist': 'Taylor Swift', 'bilde_url': 'https://i.scdn.co/image/ab67616d00001e02e787cffec20aa2a396a61647', 'plassering': 4, 'forrige_plassering': 4, 'topplassering': 2, 'topp_dato': '2023-07-06', 'uker_paa_listen': 49, 'antall_streams': 28511866}\n",
      "{'navn': 'Cruel Summer', 'artist': 'Taylor Swift', 'bilde_url': 'https://i.scdn.co/image/ab67616d00001e02e787cffec20aa2a396a61647', 'plassering': 4, 'forrige_plassering': 4, 'topplassering': 2, 'topp_dato': '2023-07-06', 'uker_paa_listen': 49, 'antall_streams': 28511866}\n",
      "{'navn': 'I Wanna Be Yours', 'artist': 'Arctic Monkeys', 'bilde_url': 'https://i.scdn.co/image/ab67616d00001e024ae1c4c5c45aabe565499163', 'plassering': 15, 'forrige_plassering': 15, 'topplassering': 15, 'topp_dato': '2023-09-28', 'uker_paa_listen': 79, 'antall_streams': 19970377}\n",
      "{'navn': 'I Wanna Be Yours', 'artist': 'Arctic Monkeys', 'bilde_url': 'https://i.scdn.co/image/ab67616d00001e024ae1c4c5c45aabe565499163', 'plassering': 15, 'forrige_plassering': 15, 'topplassering': 15, 'topp_dato': '2023-09-28', 'uker_paa_listen': 79, 'antall_streams': 19970377}\n",
      "{'navn': 'I Wanna Be Yours', 'artist': 'Arctic Monkeys', 'bilde_url': 'https://i.scdn.co/image/ab67616d00001e024ae1c4c5c45aabe565499163', 'plassering': 15, 'forrige_plassering': 15, 'topplassering': 15, 'topp_dato': '2023-09-28', 'uker_paa_listen': 79, 'antall_streams': 19970377}\n",
      "{'navn': 'I Wanna Be Yours', 'artist': 'Arctic Monkeys', 'bilde_url': 'https://i.scdn.co/image/ab67616d00001e024ae1c4c5c45aabe565499163', 'plassering': 15, 'forrige_plassering': 15, 'topplassering': 15, 'topp_dato': '2023-09-28', 'uker_paa_listen': 79, 'antall_streams': 19970377}\n",
      "{'navn': 'I Wanna Be Yours', 'artist': 'Arctic Monkeys', 'bilde_url': 'https://i.scdn.co/image/ab67616d00001e024ae1c4c5c45aabe565499163', 'plassering': 15, 'forrige_plassering': 15, 'topplassering': 15, 'topp_dato': '2023-09-28', 'uker_paa_listen': 79, 'antall_streams': 19970377}\n",
      "{'navn': 'I Wanna Be Yours', 'artist': 'Arctic Monkeys', 'bilde_url': 'https://i.scdn.co/image/ab67616d00001e024ae1c4c5c45aabe565499163', 'plassering': 15, 'forrige_plassering': 15, 'topplassering': 15, 'topp_dato': '2023-09-28', 'uker_paa_listen': 79, 'antall_streams': 19970377}\n",
      "{'navn': 'I Wanna Be Yours', 'artist': 'Arctic Monkeys', 'bilde_url': 'https://i.scdn.co/image/ab67616d00001e024ae1c4c5c45aabe565499163', 'plassering': 15, 'forrige_plassering': 15, 'topplassering': 15, 'topp_dato': '2023-09-28', 'uker_paa_listen': 79, 'antall_streams': 19970377}\n",
      "{'navn': 'I Wanna Be Yours', 'artist': 'Arctic Monkeys', 'bilde_url': 'https://i.scdn.co/image/ab67616d00001e024ae1c4c5c45aabe565499163', 'plassering': 15, 'forrige_plassering': 15, 'topplassering': 15, 'topp_dato': '2023-09-28', 'uker_paa_listen': 79, 'antall_streams': 19970377}\n",
      "{'navn': 'Starboy', 'artist': 'The Weeknd', 'bilde_url': 'https://i.scdn.co/image/ab67616d00001e024718e2b124f79258be7bc452', 'plassering': 23, 'forrige_plassering': 23, 'topplassering': 1, 'topp_dato': '2016-12-29', 'uker_paa_listen': 171, 'antall_streams': 17100327}\n",
      "{'navn': 'Starboy', 'artist': 'The Weeknd', 'bilde_url': 'https://i.scdn.co/image/ab67616d00001e024718e2b124f79258be7bc452', 'plassering': 23, 'forrige_plassering': 23, 'topplassering': 1, 'topp_dato': '2016-12-29', 'uker_paa_listen': 171, 'antall_streams': 17100327}\n",
      "{'navn': 'Starboy', 'artist': 'The Weeknd', 'bilde_url': 'https://i.scdn.co/image/ab67616d00001e024718e2b124f79258be7bc452', 'plassering': 23, 'forrige_plassering': 23, 'topplassering': 1, 'topp_dato': '2016-12-29', 'uker_paa_listen': 171, 'antall_streams': 17100327}\n",
      "{'navn': 'Starboy', 'artist': 'The Weeknd', 'bilde_url': 'https://i.scdn.co/image/ab67616d00001e024718e2b124f79258be7bc452', 'plassering': 23, 'forrige_plassering': 23, 'topplassering': 1, 'topp_dato': '2016-12-29', 'uker_paa_listen': 171, 'antall_streams': 17100327}\n",
      "{'navn': 'Starboy', 'artist': 'The Weeknd', 'bilde_url': 'https://i.scdn.co/image/ab67616d00001e024718e2b124f79258be7bc452', 'plassering': 23, 'forrige_plassering': 23, 'topplassering': 1, 'topp_dato': '2016-12-29', 'uker_paa_listen': 171, 'antall_streams': 17100327}\n",
      "{'navn': 'Starboy', 'artist': 'The Weeknd', 'bilde_url': 'https://i.scdn.co/image/ab67616d00001e024718e2b124f79258be7bc452', 'plassering': 23, 'forrige_plassering': 23, 'topplassering': 1, 'topp_dato': '2016-12-29', 'uker_paa_listen': 171, 'antall_streams': 17100327}\n",
      "{'navn': 'Starboy', 'artist': 'The Weeknd', 'bilde_url': 'https://i.scdn.co/image/ab67616d00001e024718e2b124f79258be7bc452', 'plassering': 23, 'forrige_plassering': 23, 'topplassering': 1, 'topp_dato': '2016-12-29', 'uker_paa_listen': 171, 'antall_streams': 17100327}\n",
      "{'navn': 'Starboy', 'artist': 'The Weeknd', 'bilde_url': 'https://i.scdn.co/image/ab67616d00001e024718e2b124f79258be7bc452', 'plassering': 23, 'forrige_plassering': 23, 'topplassering': 1, 'topp_dato': '2016-12-29', 'uker_paa_listen': 171, 'antall_streams': 17100327}\n",
      "{'navn': 'Starboy', 'artist': 'The Weeknd', 'bilde_url': 'https://i.scdn.co/image/ab67616d00001e024718e2b124f79258be7bc452', 'plassering': 23, 'forrige_plassering': 23, 'topplassering': 1, 'topp_dato': '2016-12-29', 'uker_paa_listen': 171, 'antall_streams': 17100327}\n",
      "{'navn': 'Starboy', 'artist': 'The Weeknd', 'bilde_url': 'https://i.scdn.co/image/ab67616d00001e024718e2b124f79258be7bc452', 'plassering': 23, 'forrige_plassering': 23, 'topplassering': 1, 'topp_dato': '2016-12-29', 'uker_paa_listen': 171, 'antall_streams': 17100327}\n",
      "{'navn': 'Starboy', 'artist': 'The Weeknd', 'bilde_url': 'https://i.scdn.co/image/ab67616d00001e024718e2b124f79258be7bc452', 'plassering': 23, 'forrige_plassering': 23, 'topplassering': 1, 'topp_dato': '2016-12-29', 'uker_paa_listen': 171, 'antall_streams': 17100327}\n",
      "{'navn': 'Starboy', 'artist': 'The Weeknd', 'bilde_url': 'https://i.scdn.co/image/ab67616d00001e024718e2b124f79258be7bc452', 'plassering': 23, 'forrige_plassering': 23, 'topplassering': 1, 'topp_dato': '2016-12-29', 'uker_paa_listen': 171, 'antall_streams': 17100327}\n",
      "{'navn': 'Starboy', 'artist': 'The Weeknd', 'bilde_url': 'https://i.scdn.co/image/ab67616d00001e024718e2b124f79258be7bc452', 'plassering': 23, 'forrige_plassering': 23, 'topplassering': 1, 'topp_dato': '2016-12-29', 'uker_paa_listen': 171, 'antall_streams': 17100327}\n",
      "{'navn': 'Starboy', 'artist': 'The Weeknd', 'bilde_url': 'https://i.scdn.co/image/ab67616d00001e024718e2b124f79258be7bc452', 'plassering': 23, 'forrige_plassering': 23, 'topplassering': 1, 'topp_dato': '2016-12-29', 'uker_paa_listen': 171, 'antall_streams': 17100327}\n",
      "{'navn': 'Starboy', 'artist': 'The Weeknd', 'bilde_url': 'https://i.scdn.co/image/ab67616d00001e024718e2b124f79258be7bc452', 'plassering': 23, 'forrige_plassering': 23, 'topplassering': 1, 'topp_dato': '2016-12-29', 'uker_paa_listen': 171, 'antall_streams': 17100327}\n",
      "{'navn': 'Starboy', 'artist': 'The Weeknd', 'bilde_url': 'https://i.scdn.co/image/ab67616d00001e024718e2b124f79258be7bc452', 'plassering': 23, 'forrige_plassering': 23, 'topplassering': 1, 'topp_dato': '2016-12-29', 'uker_paa_listen': 171, 'antall_streams': 17100327}\n",
      "{'navn': 'Starboy', 'artist': 'The Weeknd', 'bilde_url': 'https://i.scdn.co/image/ab67616d00001e024718e2b124f79258be7bc452', 'plassering': 23, 'forrige_plassering': 23, 'topplassering': 1, 'topp_dato': '2016-12-29', 'uker_paa_listen': 171, 'antall_streams': 17100327}\n",
      "{'navn': 'Starboy', 'artist': 'The Weeknd', 'bilde_url': 'https://i.scdn.co/image/ab67616d00001e024718e2b124f79258be7bc452', 'plassering': 23, 'forrige_plassering': 23, 'topplassering': 1, 'topp_dato': '2016-12-29', 'uker_paa_listen': 171, 'antall_streams': 17100327}\n",
      "{'navn': 'Starboy', 'artist': 'The Weeknd', 'bilde_url': 'https://i.scdn.co/image/ab67616d00001e024718e2b124f79258be7bc452', 'plassering': 23, 'forrige_plassering': 23, 'topplassering': 1, 'topp_dato': '2016-12-29', 'uker_paa_listen': 171, 'antall_streams': 17100327}\n",
      "{'navn': 'Starboy', 'artist': 'The Weeknd', 'bilde_url': 'https://i.scdn.co/image/ab67616d00001e024718e2b124f79258be7bc452', 'plassering': 23, 'forrige_plassering': 23, 'topplassering': 1, 'topp_dato': '2016-12-29', 'uker_paa_listen': 171, 'antall_streams': 17100327}\n",
      "{'navn': 'Starboy', 'artist': 'The Weeknd', 'bilde_url': 'https://i.scdn.co/image/ab67616d00001e024718e2b124f79258be7bc452', 'plassering': 23, 'forrige_plassering': 23, 'topplassering': 1, 'topp_dato': '2016-12-29', 'uker_paa_listen': 171, 'antall_streams': 17100327}\n",
      "{'navn': 'Sweater Weather', 'artist': 'The Neighbourhood', 'bilde_url': 'https://i.scdn.co/image/ab67616d00001e028265a736a1eb838ad5a0b921', 'plassering': 44, 'forrige_plassering': 44, 'topplassering': 19, 'topp_dato': '2022-10-20', 'uker_paa_listen': 176, 'antall_streams': 13859103}\n",
      "{'navn': 'Blinding Lights', 'artist': 'The Weeknd', 'bilde_url': 'https://i.scdn.co/image/ab67616d00001e028863bc11d2aa12b54f5aeb36', 'plassering': 45, 'forrige_plassering': 45, 'topplassering': 1, 'topp_dato': '2020-02-27', 'uker_paa_listen': 215, 'antall_streams': 13651163}\n",
      "{'navn': 'Blinding Lights', 'artist': 'The Weeknd', 'bilde_url': 'https://i.scdn.co/image/ab67616d00001e028863bc11d2aa12b54f5aeb36', 'plassering': 45, 'forrige_plassering': 45, 'topplassering': 1, 'topp_dato': '2020-02-27', 'uker_paa_listen': 215, 'antall_streams': 13651163}\n",
      "{'navn': 'Blinding Lights', 'artist': 'The Weeknd', 'bilde_url': 'https://i.scdn.co/image/ab67616d00001e028863bc11d2aa12b54f5aeb36', 'plassering': 45, 'forrige_plassering': 45, 'topplassering': 1, 'topp_dato': '2020-02-27', 'uker_paa_listen': 215, 'antall_streams': 13651163}\n",
      "{'navn': 'Blinding Lights', 'artist': 'The Weeknd', 'bilde_url': 'https://i.scdn.co/image/ab67616d00001e028863bc11d2aa12b54f5aeb36', 'plassering': 45, 'forrige_plassering': 45, 'topplassering': 1, 'topp_dato': '2020-02-27', 'uker_paa_listen': 215, 'antall_streams': 13651163}\n",
      "{'navn': 'Blinding Lights', 'artist': 'The Weeknd', 'bilde_url': 'https://i.scdn.co/image/ab67616d00001e028863bc11d2aa12b54f5aeb36', 'plassering': 45, 'forrige_plassering': 45, 'topplassering': 1, 'topp_dato': '2020-02-27', 'uker_paa_listen': 215, 'antall_streams': 13651163}\n",
      "{'navn': 'Blinding Lights', 'artist': 'The Weeknd', 'bilde_url': 'https://i.scdn.co/image/ab67616d00001e028863bc11d2aa12b54f5aeb36', 'plassering': 45, 'forrige_plassering': 45, 'topplassering': 1, 'topp_dato': '2020-02-27', 'uker_paa_listen': 215, 'antall_streams': 13651163}\n",
      "{'navn': 'Blinding Lights', 'artist': 'The Weeknd', 'bilde_url': 'https://i.scdn.co/image/ab67616d00001e028863bc11d2aa12b54f5aeb36', 'plassering': 45, 'forrige_plassering': 45, 'topplassering': 1, 'topp_dato': '2020-02-27', 'uker_paa_listen': 215, 'antall_streams': 13651163}\n",
      "{'navn': 'Blinding Lights', 'artist': 'The Weeknd', 'bilde_url': 'https://i.scdn.co/image/ab67616d00001e028863bc11d2aa12b54f5aeb36', 'plassering': 45, 'forrige_plassering': 45, 'topplassering': 1, 'topp_dato': '2020-02-27', 'uker_paa_listen': 215, 'antall_streams': 13651163}\n",
      "{'navn': 'Blinding Lights', 'artist': 'The Weeknd', 'bilde_url': 'https://i.scdn.co/image/ab67616d00001e028863bc11d2aa12b54f5aeb36', 'plassering': 45, 'forrige_plassering': 45, 'topplassering': 1, 'topp_dato': '2020-02-27', 'uker_paa_listen': 215, 'antall_streams': 13651163}\n",
      "{'navn': 'Blinding Lights', 'artist': 'The Weeknd', 'bilde_url': 'https://i.scdn.co/image/ab67616d00001e028863bc11d2aa12b54f5aeb36', 'plassering': 45, 'forrige_plassering': 45, 'topplassering': 1, 'topp_dato': '2020-02-27', 'uker_paa_listen': 215, 'antall_streams': 13651163}\n",
      "{'navn': 'Blinding Lights', 'artist': 'The Weeknd', 'bilde_url': 'https://i.scdn.co/image/ab67616d00001e028863bc11d2aa12b54f5aeb36', 'plassering': 45, 'forrige_plassering': 45, 'topplassering': 1, 'topp_dato': '2020-02-27', 'uker_paa_listen': 215, 'antall_streams': 13651163}\n",
      "{'navn': 'Blinding Lights', 'artist': 'The Weeknd', 'bilde_url': 'https://i.scdn.co/image/ab67616d00001e028863bc11d2aa12b54f5aeb36', 'plassering': 45, 'forrige_plassering': 45, 'topplassering': 1, 'topp_dato': '2020-02-27', 'uker_paa_listen': 215, 'antall_streams': 13651163}\n",
      "{'navn': 'Blinding Lights', 'artist': 'The Weeknd', 'bilde_url': 'https://i.scdn.co/image/ab67616d00001e028863bc11d2aa12b54f5aeb36', 'plassering': 45, 'forrige_plassering': 45, 'topplassering': 1, 'topp_dato': '2020-02-27', 'uker_paa_listen': 215, 'antall_streams': 13651163}\n",
      "{'navn': 'Blinding Lights', 'artist': 'The Weeknd', 'bilde_url': 'https://i.scdn.co/image/ab67616d00001e028863bc11d2aa12b54f5aeb36', 'plassering': 45, 'forrige_plassering': 45, 'topplassering': 1, 'topp_dato': '2020-02-27', 'uker_paa_listen': 215, 'antall_streams': 13651163}\n",
      "{'navn': 'Blinding Lights', 'artist': 'The Weeknd', 'bilde_url': 'https://i.scdn.co/image/ab67616d00001e028863bc11d2aa12b54f5aeb36', 'plassering': 45, 'forrige_plassering': 45, 'topplassering': 1, 'topp_dato': '2020-02-27', 'uker_paa_listen': 215, 'antall_streams': 13651163}\n",
      "{'navn': 'Blinding Lights', 'artist': 'The Weeknd', 'bilde_url': 'https://i.scdn.co/image/ab67616d00001e028863bc11d2aa12b54f5aeb36', 'plassering': 45, 'forrige_plassering': 45, 'topplassering': 1, 'topp_dato': '2020-02-27', 'uker_paa_listen': 215, 'antall_streams': 13651163}\n",
      "{'navn': 'Blinding Lights', 'artist': 'The Weeknd', 'bilde_url': 'https://i.scdn.co/image/ab67616d00001e028863bc11d2aa12b54f5aeb36', 'plassering': 45, 'forrige_plassering': 45, 'topplassering': 1, 'topp_dato': '2020-02-27', 'uker_paa_listen': 215, 'antall_streams': 13651163}\n",
      "{'navn': 'Blinding Lights', 'artist': 'The Weeknd', 'bilde_url': 'https://i.scdn.co/image/ab67616d00001e028863bc11d2aa12b54f5aeb36', 'plassering': 45, 'forrige_plassering': 45, 'topplassering': 1, 'topp_dato': '2020-02-27', 'uker_paa_listen': 215, 'antall_streams': 13651163}\n",
      "{'navn': 'Blinding Lights', 'artist': 'The Weeknd', 'bilde_url': 'https://i.scdn.co/image/ab67616d00001e028863bc11d2aa12b54f5aeb36', 'plassering': 45, 'forrige_plassering': 45, 'topplassering': 1, 'topp_dato': '2020-02-27', 'uker_paa_listen': 215, 'antall_streams': 13651163}\n",
      "{'navn': 'Blinding Lights', 'artist': 'The Weeknd', 'bilde_url': 'https://i.scdn.co/image/ab67616d00001e028863bc11d2aa12b54f5aeb36', 'plassering': 45, 'forrige_plassering': 45, 'topplassering': 1, 'topp_dato': '2020-02-27', 'uker_paa_listen': 215, 'antall_streams': 13651163}\n",
      "{'navn': 'Blinding Lights', 'artist': 'The Weeknd', 'bilde_url': 'https://i.scdn.co/image/ab67616d00001e028863bc11d2aa12b54f5aeb36', 'plassering': 45, 'forrige_plassering': 45, 'topplassering': 1, 'topp_dato': '2020-02-27', 'uker_paa_listen': 215, 'antall_streams': 13651163}\n",
      "{'navn': 'Sunflower - Spider-Man: Into the Spider-Verse', 'artist': 'Post Malone', 'bilde_url': 'https://i.scdn.co/image/ab67616d00001e029478c87599550dd73bfa7e02', 'plassering': 66, 'forrige_plassering': 66, 'topplassering': 1, 'topp_dato': '2019-01-10', 'uker_paa_listen': 266, 'antall_streams': 11536228}\n",
      "{'navn': 'Sunflower - Spider-Man: Into the Spider-Verse', 'artist': 'Post Malone', 'bilde_url': 'https://i.scdn.co/image/ab67616d00001e029478c87599550dd73bfa7e02', 'plassering': 66, 'forrige_plassering': 66, 'topplassering': 1, 'topp_dato': '2019-01-10', 'uker_paa_listen': 266, 'antall_streams': 11536228}\n",
      "{'navn': 'Sunflower - Spider-Man: Into the Spider-Verse', 'artist': 'Post Malone', 'bilde_url': 'https://i.scdn.co/image/ab67616d00001e029478c87599550dd73bfa7e02', 'plassering': 66, 'forrige_plassering': 66, 'topplassering': 1, 'topp_dato': '2019-01-10', 'uker_paa_listen': 266, 'antall_streams': 11536228}\n",
      "{'navn': 'Sunflower - Spider-Man: Into the Spider-Verse', 'artist': 'Post Malone', 'bilde_url': 'https://i.scdn.co/image/ab67616d00001e029478c87599550dd73bfa7e02', 'plassering': 66, 'forrige_plassering': 66, 'topplassering': 1, 'topp_dato': '2019-01-10', 'uker_paa_listen': 266, 'antall_streams': 11536228}\n",
      "{'navn': 'Sunflower - Spider-Man: Into the Spider-Verse', 'artist': 'Post Malone', 'bilde_url': 'https://i.scdn.co/image/ab67616d00001e029478c87599550dd73bfa7e02', 'plassering': 66, 'forrige_plassering': 66, 'topplassering': 1, 'topp_dato': '2019-01-10', 'uker_paa_listen': 266, 'antall_streams': 11536228}\n",
      "{'navn': 'Sunflower - Spider-Man: Into the Spider-Verse', 'artist': 'Post Malone', 'bilde_url': 'https://i.scdn.co/image/ab67616d00001e029478c87599550dd73bfa7e02', 'plassering': 66, 'forrige_plassering': 66, 'topplassering': 1, 'topp_dato': '2019-01-10', 'uker_paa_listen': 266, 'antall_streams': 11536228}\n",
      "{'navn': 'Sunflower - Spider-Man: Into the Spider-Verse', 'artist': 'Post Malone', 'bilde_url': 'https://i.scdn.co/image/ab67616d00001e029478c87599550dd73bfa7e02', 'plassering': 66, 'forrige_plassering': 66, 'topplassering': 1, 'topp_dato': '2019-01-10', 'uker_paa_listen': 266, 'antall_streams': 11536228}\n",
      "{'navn': 'Sunflower - Spider-Man: Into the Spider-Verse', 'artist': 'Post Malone', 'bilde_url': 'https://i.scdn.co/image/ab67616d00001e029478c87599550dd73bfa7e02', 'plassering': 66, 'forrige_plassering': 66, 'topplassering': 1, 'topp_dato': '2019-01-10', 'uker_paa_listen': 266, 'antall_streams': 11536228}\n",
      "{'navn': 'Sunflower - Spider-Man: Into the Spider-Verse', 'artist': 'Post Malone', 'bilde_url': 'https://i.scdn.co/image/ab67616d00001e029478c87599550dd73bfa7e02', 'plassering': 66, 'forrige_plassering': 66, 'topplassering': 1, 'topp_dato': '2019-01-10', 'uker_paa_listen': 266, 'antall_streams': 11536228}\n",
      "{'navn': 'Sunflower - Spider-Man: Into the Spider-Verse', 'artist': 'Post Malone', 'bilde_url': 'https://i.scdn.co/image/ab67616d00001e029478c87599550dd73bfa7e02', 'plassering': 66, 'forrige_plassering': 66, 'topplassering': 1, 'topp_dato': '2019-01-10', 'uker_paa_listen': 266, 'antall_streams': 11536228}\n",
      "{'navn': 'Sunflower - Spider-Man: Into the Spider-Verse', 'artist': 'Post Malone', 'bilde_url': 'https://i.scdn.co/image/ab67616d00001e029478c87599550dd73bfa7e02', 'plassering': 66, 'forrige_plassering': 66, 'topplassering': 1, 'topp_dato': '2019-01-10', 'uker_paa_listen': 266, 'antall_streams': 11536228}\n",
      "{'navn': 'Sunflower - Spider-Man: Into the Spider-Verse', 'artist': 'Post Malone', 'bilde_url': 'https://i.scdn.co/image/ab67616d00001e029478c87599550dd73bfa7e02', 'plassering': 66, 'forrige_plassering': 66, 'topplassering': 1, 'topp_dato': '2019-01-10', 'uker_paa_listen': 266, 'antall_streams': 11536228}\n",
      "{'navn': 'Sunflower - Spider-Man: Into the Spider-Verse', 'artist': 'Post Malone', 'bilde_url': 'https://i.scdn.co/image/ab67616d00001e029478c87599550dd73bfa7e02', 'plassering': 66, 'forrige_plassering': 66, 'topplassering': 1, 'topp_dato': '2019-01-10', 'uker_paa_listen': 266, 'antall_streams': 11536228}\n",
      "{'navn': 'Sunflower - Spider-Man: Into the Spider-Verse', 'artist': 'Post Malone', 'bilde_url': 'https://i.scdn.co/image/ab67616d00001e029478c87599550dd73bfa7e02', 'plassering': 66, 'forrige_plassering': 66, 'topplassering': 1, 'topp_dato': '2019-01-10', 'uker_paa_listen': 266, 'antall_streams': 11536228}\n",
      "{'navn': 'Sunflower - Spider-Man: Into the Spider-Verse', 'artist': 'Post Malone', 'bilde_url': 'https://i.scdn.co/image/ab67616d00001e029478c87599550dd73bfa7e02', 'plassering': 66, 'forrige_plassering': 66, 'topplassering': 1, 'topp_dato': '2019-01-10', 'uker_paa_listen': 266, 'antall_streams': 11536228}\n",
      "{'navn': 'Sunflower - Spider-Man: Into the Spider-Verse', 'artist': 'Post Malone', 'bilde_url': 'https://i.scdn.co/image/ab67616d00001e029478c87599550dd73bfa7e02', 'plassering': 66, 'forrige_plassering': 66, 'topplassering': 1, 'topp_dato': '2019-01-10', 'uker_paa_listen': 266, 'antall_streams': 11536228}\n",
      "{'navn': 'Sunflower - Spider-Man: Into the Spider-Verse', 'artist': 'Post Malone', 'bilde_url': 'https://i.scdn.co/image/ab67616d00001e029478c87599550dd73bfa7e02', 'plassering': 66, 'forrige_plassering': 66, 'topplassering': 1, 'topp_dato': '2019-01-10', 'uker_paa_listen': 266, 'antall_streams': 11536228}\n",
      "{'navn': 'Sunflower - Spider-Man: Into the Spider-Verse', 'artist': 'Post Malone', 'bilde_url': 'https://i.scdn.co/image/ab67616d00001e029478c87599550dd73bfa7e02', 'plassering': 66, 'forrige_plassering': 66, 'topplassering': 1, 'topp_dato': '2019-01-10', 'uker_paa_listen': 266, 'antall_streams': 11536228}\n",
      "{'navn': 'Sunflower - Spider-Man: Into the Spider-Verse', 'artist': 'Post Malone', 'bilde_url': 'https://i.scdn.co/image/ab67616d00001e029478c87599550dd73bfa7e02', 'plassering': 66, 'forrige_plassering': 66, 'topplassering': 1, 'topp_dato': '2019-01-10', 'uker_paa_listen': 266, 'antall_streams': 11536228}\n",
      "{'navn': 'Sunflower - Spider-Man: Into the Spider-Verse', 'artist': 'Post Malone', 'bilde_url': 'https://i.scdn.co/image/ab67616d00001e029478c87599550dd73bfa7e02', 'plassering': 66, 'forrige_plassering': 66, 'topplassering': 1, 'topp_dato': '2019-01-10', 'uker_paa_listen': 266, 'antall_streams': 11536228}\n",
      "{'navn': 'Sunflower - Spider-Man: Into the Spider-Verse', 'artist': 'Post Malone', 'bilde_url': 'https://i.scdn.co/image/ab67616d00001e029478c87599550dd73bfa7e02', 'plassering': 66, 'forrige_plassering': 66, 'topplassering': 1, 'topp_dato': '2019-01-10', 'uker_paa_listen': 266, 'antall_streams': 11536228}\n",
      "{'navn': 'Sunflower - Spider-Man: Into the Spider-Verse', 'artist': 'Post Malone', 'bilde_url': 'https://i.scdn.co/image/ab67616d00001e029478c87599550dd73bfa7e02', 'plassering': 66, 'forrige_plassering': 66, 'topplassering': 1, 'topp_dato': '2019-01-10', 'uker_paa_listen': 266, 'antall_streams': 11536228}\n",
      "{'navn': 'Sunflower - Spider-Man: Into the Spider-Verse', 'artist': 'Post Malone', 'bilde_url': 'https://i.scdn.co/image/ab67616d00001e029478c87599550dd73bfa7e02', 'plassering': 66, 'forrige_plassering': 66, 'topplassering': 1, 'topp_dato': '2019-01-10', 'uker_paa_listen': 266, 'antall_streams': 11536228}\n",
      "{'navn': 'Sunflower - Spider-Man: Into the Spider-Verse', 'artist': 'Post Malone', 'bilde_url': 'https://i.scdn.co/image/ab67616d00001e029478c87599550dd73bfa7e02', 'plassering': 66, 'forrige_plassering': 66, 'topplassering': 1, 'topp_dato': '2019-01-10', 'uker_paa_listen': 266, 'antall_streams': 11536228}\n",
      "{'navn': 'Sunflower - Spider-Man: Into the Spider-Verse', 'artist': 'Post Malone', 'bilde_url': 'https://i.scdn.co/image/ab67616d00001e029478c87599550dd73bfa7e02', 'plassering': 66, 'forrige_plassering': 66, 'topplassering': 1, 'topp_dato': '2019-01-10', 'uker_paa_listen': 266, 'antall_streams': 11536228}\n",
      "{'navn': 'Sunflower - Spider-Man: Into the Spider-Verse', 'artist': 'Post Malone', 'bilde_url': 'https://i.scdn.co/image/ab67616d00001e029478c87599550dd73bfa7e02', 'plassering': 66, 'forrige_plassering': 66, 'topplassering': 1, 'topp_dato': '2019-01-10', 'uker_paa_listen': 266, 'antall_streams': 11536228}\n",
      "{'navn': 'Sunflower - Spider-Man: Into the Spider-Verse', 'artist': 'Post Malone', 'bilde_url': 'https://i.scdn.co/image/ab67616d00001e029478c87599550dd73bfa7e02', 'plassering': 66, 'forrige_plassering': 66, 'topplassering': 1, 'topp_dato': '2019-01-10', 'uker_paa_listen': 266, 'antall_streams': 11536228}\n",
      "{'navn': 'Sunflower - Spider-Man: Into the Spider-Verse', 'artist': 'Post Malone', 'bilde_url': 'https://i.scdn.co/image/ab67616d00001e029478c87599550dd73bfa7e02', 'plassering': 66, 'forrige_plassering': 66, 'topplassering': 1, 'topp_dato': '2019-01-10', 'uker_paa_listen': 266, 'antall_streams': 11536228}\n",
      "{'navn': 'Sunflower - Spider-Man: Into the Spider-Verse', 'artist': 'Post Malone', 'bilde_url': 'https://i.scdn.co/image/ab67616d00001e029478c87599550dd73bfa7e02', 'plassering': 66, 'forrige_plassering': 66, 'topplassering': 1, 'topp_dato': '2019-01-10', 'uker_paa_listen': 266, 'antall_streams': 11536228}\n",
      "{'navn': 'Sunflower - Spider-Man: Into the Spider-Verse', 'artist': 'Post Malone', 'bilde_url': 'https://i.scdn.co/image/ab67616d00001e029478c87599550dd73bfa7e02', 'plassering': 66, 'forrige_plassering': 66, 'topplassering': 1, 'topp_dato': '2019-01-10', 'uker_paa_listen': 266, 'antall_streams': 11536228}\n",
      "{'navn': 'Sunflower - Spider-Man: Into the Spider-Verse', 'artist': 'Post Malone', 'bilde_url': 'https://i.scdn.co/image/ab67616d00001e029478c87599550dd73bfa7e02', 'plassering': 66, 'forrige_plassering': 66, 'topplassering': 1, 'topp_dato': '2019-01-10', 'uker_paa_listen': 266, 'antall_streams': 11536228}\n",
      "{'navn': 'Sunflower - Spider-Man: Into the Spider-Verse', 'artist': 'Post Malone', 'bilde_url': 'https://i.scdn.co/image/ab67616d00001e029478c87599550dd73bfa7e02', 'plassering': 66, 'forrige_plassering': 66, 'topplassering': 1, 'topp_dato': '2019-01-10', 'uker_paa_listen': 266, 'antall_streams': 11536228}\n",
      "{'navn': 'Sunflower - Spider-Man: Into the Spider-Verse', 'artist': 'Post Malone', 'bilde_url': 'https://i.scdn.co/image/ab67616d00001e029478c87599550dd73bfa7e02', 'plassering': 66, 'forrige_plassering': 66, 'topplassering': 1, 'topp_dato': '2019-01-10', 'uker_paa_listen': 266, 'antall_streams': 11536228}\n",
      "{'navn': 'Sunflower - Spider-Man: Into the Spider-Verse', 'artist': 'Post Malone', 'bilde_url': 'https://i.scdn.co/image/ab67616d00001e029478c87599550dd73bfa7e02', 'plassering': 66, 'forrige_plassering': 66, 'topplassering': 1, 'topp_dato': '2019-01-10', 'uker_paa_listen': 266, 'antall_streams': 11536228}\n",
      "{'navn': 'Sunflower - Spider-Man: Into the Spider-Verse', 'artist': 'Post Malone', 'bilde_url': 'https://i.scdn.co/image/ab67616d00001e029478c87599550dd73bfa7e02', 'plassering': 66, 'forrige_plassering': 66, 'topplassering': 1, 'topp_dato': '2019-01-10', 'uker_paa_listen': 266, 'antall_streams': 11536228}\n",
      "{'navn': 'Sunflower - Spider-Man: Into the Spider-Verse', 'artist': 'Post Malone', 'bilde_url': 'https://i.scdn.co/image/ab67616d00001e029478c87599550dd73bfa7e02', 'plassering': 66, 'forrige_plassering': 66, 'topplassering': 1, 'topp_dato': '2019-01-10', 'uker_paa_listen': 266, 'antall_streams': 11536228}\n",
      "{'navn': 'Sunflower - Spider-Man: Into the Spider-Verse', 'artist': 'Post Malone', 'bilde_url': 'https://i.scdn.co/image/ab67616d00001e029478c87599550dd73bfa7e02', 'plassering': 66, 'forrige_plassering': 66, 'topplassering': 1, 'topp_dato': '2019-01-10', 'uker_paa_listen': 266, 'antall_streams': 11536228}\n",
      "{'navn': 'Sunflower - Spider-Man: Into the Spider-Verse', 'artist': 'Post Malone', 'bilde_url': 'https://i.scdn.co/image/ab67616d00001e029478c87599550dd73bfa7e02', 'plassering': 66, 'forrige_plassering': 66, 'topplassering': 1, 'topp_dato': '2019-01-10', 'uker_paa_listen': 266, 'antall_streams': 11536228}\n",
      "{'navn': 'Sunflower - Spider-Man: Into the Spider-Verse', 'artist': 'Post Malone', 'bilde_url': 'https://i.scdn.co/image/ab67616d00001e029478c87599550dd73bfa7e02', 'plassering': 66, 'forrige_plassering': 66, 'topplassering': 1, 'topp_dato': '2019-01-10', 'uker_paa_listen': 266, 'antall_streams': 11536228}\n",
      "{'navn': 'Sunflower - Spider-Man: Into the Spider-Verse', 'artist': 'Post Malone', 'bilde_url': 'https://i.scdn.co/image/ab67616d00001e029478c87599550dd73bfa7e02', 'plassering': 66, 'forrige_plassering': 66, 'topplassering': 1, 'topp_dato': '2019-01-10', 'uker_paa_listen': 266, 'antall_streams': 11536228}\n",
      "{'navn': 'Sunflower - Spider-Man: Into the Spider-Verse', 'artist': 'Post Malone', 'bilde_url': 'https://i.scdn.co/image/ab67616d00001e029478c87599550dd73bfa7e02', 'plassering': 66, 'forrige_plassering': 66, 'topplassering': 1, 'topp_dato': '2019-01-10', 'uker_paa_listen': 266, 'antall_streams': 11536228}\n",
      "{'navn': 'Sunflower - Spider-Man: Into the Spider-Verse', 'artist': 'Post Malone', 'bilde_url': 'https://i.scdn.co/image/ab67616d00001e029478c87599550dd73bfa7e02', 'plassering': 66, 'forrige_plassering': 66, 'topplassering': 1, 'topp_dato': '2019-01-10', 'uker_paa_listen': 266, 'antall_streams': 11536228}\n",
      "{'navn': 'Sunflower - Spider-Man: Into the Spider-Verse', 'artist': 'Post Malone', 'bilde_url': 'https://i.scdn.co/image/ab67616d00001e029478c87599550dd73bfa7e02', 'plassering': 66, 'forrige_plassering': 66, 'topplassering': 1, 'topp_dato': '2019-01-10', 'uker_paa_listen': 266, 'antall_streams': 11536228}\n",
      "{'navn': 'Sunflower - Spider-Man: Into the Spider-Verse', 'artist': 'Post Malone', 'bilde_url': 'https://i.scdn.co/image/ab67616d00001e029478c87599550dd73bfa7e02', 'plassering': 66, 'forrige_plassering': 66, 'topplassering': 1, 'topp_dato': '2019-01-10', 'uker_paa_listen': 266, 'antall_streams': 11536228}\n",
      "{'navn': 'Sunflower - Spider-Man: Into the Spider-Verse', 'artist': 'Post Malone', 'bilde_url': 'https://i.scdn.co/image/ab67616d00001e029478c87599550dd73bfa7e02', 'plassering': 66, 'forrige_plassering': 66, 'topplassering': 1, 'topp_dato': '2019-01-10', 'uker_paa_listen': 266, 'antall_streams': 11536228}\n",
      "{'navn': 'Sunflower - Spider-Man: Into the Spider-Verse', 'artist': 'Post Malone', 'bilde_url': 'https://i.scdn.co/image/ab67616d00001e029478c87599550dd73bfa7e02', 'plassering': 66, 'forrige_plassering': 66, 'topplassering': 1, 'topp_dato': '2019-01-10', 'uker_paa_listen': 266, 'antall_streams': 11536228}\n",
      "{'navn': 'Sunflower - Spider-Man: Into the Spider-Verse', 'artist': 'Post Malone', 'bilde_url': 'https://i.scdn.co/image/ab67616d00001e029478c87599550dd73bfa7e02', 'plassering': 66, 'forrige_plassering': 66, 'topplassering': 1, 'topp_dato': '2019-01-10', 'uker_paa_listen': 266, 'antall_streams': 11536228}\n",
      "{'navn': 'Sunflower - Spider-Man: Into the Spider-Verse', 'artist': 'Post Malone', 'bilde_url': 'https://i.scdn.co/image/ab67616d00001e029478c87599550dd73bfa7e02', 'plassering': 66, 'forrige_plassering': 66, 'topplassering': 1, 'topp_dato': '2019-01-10', 'uker_paa_listen': 266, 'antall_streams': 11536228}\n",
      "{'navn': 'Sunflower - Spider-Man: Into the Spider-Verse', 'artist': 'Post Malone', 'bilde_url': 'https://i.scdn.co/image/ab67616d00001e029478c87599550dd73bfa7e02', 'plassering': 66, 'forrige_plassering': 66, 'topplassering': 1, 'topp_dato': '2019-01-10', 'uker_paa_listen': 266, 'antall_streams': 11536228}\n",
      "{'navn': 'Sunflower - Spider-Man: Into the Spider-Verse', 'artist': 'Post Malone', 'bilde_url': 'https://i.scdn.co/image/ab67616d00001e029478c87599550dd73bfa7e02', 'plassering': 66, 'forrige_plassering': 66, 'topplassering': 1, 'topp_dato': '2019-01-10', 'uker_paa_listen': 266, 'antall_streams': 11536228}\n",
      "{'navn': 'Sunflower - Spider-Man: Into the Spider-Verse', 'artist': 'Post Malone', 'bilde_url': 'https://i.scdn.co/image/ab67616d00001e029478c87599550dd73bfa7e02', 'plassering': 66, 'forrige_plassering': 66, 'topplassering': 1, 'topp_dato': '2019-01-10', 'uker_paa_listen': 266, 'antall_streams': 11536228}\n",
      "{'navn': 'Sunflower - Spider-Man: Into the Spider-Verse', 'artist': 'Post Malone', 'bilde_url': 'https://i.scdn.co/image/ab67616d00001e029478c87599550dd73bfa7e02', 'plassering': 66, 'forrige_plassering': 66, 'topplassering': 1, 'topp_dato': '2019-01-10', 'uker_paa_listen': 266, 'antall_streams': 11536228}\n",
      "{'navn': 'Sunflower - Spider-Man: Into the Spider-Verse', 'artist': 'Post Malone', 'bilde_url': 'https://i.scdn.co/image/ab67616d00001e029478c87599550dd73bfa7e02', 'plassering': 66, 'forrige_plassering': 66, 'topplassering': 1, 'topp_dato': '2019-01-10', 'uker_paa_listen': 266, 'antall_streams': 11536228}\n",
      "{'navn': 'Sunflower - Spider-Man: Into the Spider-Verse', 'artist': 'Post Malone', 'bilde_url': 'https://i.scdn.co/image/ab67616d00001e029478c87599550dd73bfa7e02', 'plassering': 66, 'forrige_plassering': 66, 'topplassering': 1, 'topp_dato': '2019-01-10', 'uker_paa_listen': 266, 'antall_streams': 11536228}\n",
      "{'navn': 'Sunflower - Spider-Man: Into the Spider-Verse', 'artist': 'Post Malone', 'bilde_url': 'https://i.scdn.co/image/ab67616d00001e029478c87599550dd73bfa7e02', 'plassering': 66, 'forrige_plassering': 66, 'topplassering': 1, 'topp_dato': '2019-01-10', 'uker_paa_listen': 266, 'antall_streams': 11536228}\n",
      "{'navn': 'Sunflower - Spider-Man: Into the Spider-Verse', 'artist': 'Post Malone', 'bilde_url': 'https://i.scdn.co/image/ab67616d00001e029478c87599550dd73bfa7e02', 'plassering': 66, 'forrige_plassering': 66, 'topplassering': 1, 'topp_dato': '2019-01-10', 'uker_paa_listen': 266, 'antall_streams': 11536228}\n",
      "{'navn': 'Sunflower - Spider-Man: Into the Spider-Verse', 'artist': 'Post Malone', 'bilde_url': 'https://i.scdn.co/image/ab67616d00001e029478c87599550dd73bfa7e02', 'plassering': 66, 'forrige_plassering': 66, 'topplassering': 1, 'topp_dato': '2019-01-10', 'uker_paa_listen': 266, 'antall_streams': 11536228}\n",
      "{'navn': 'lovely (with Khalid)', 'artist': 'Billie Eilish', 'bilde_url': 'https://i.scdn.co/image/ab67616d00001e028a3f0a3ca7929dea23cd274c', 'plassering': 123, 'forrige_plassering': 123, 'topplassering': 24, 'topp_dato': '2018-06-14', 'uker_paa_listen': 299, 'antall_streams': 9339916}\n",
      "{'navn': 'lovely (with Khalid)', 'artist': 'Billie Eilish', 'bilde_url': 'https://i.scdn.co/image/ab67616d00001e028a3f0a3ca7929dea23cd274c', 'plassering': 123, 'forrige_plassering': 123, 'topplassering': 24, 'topp_dato': '2018-06-14', 'uker_paa_listen': 299, 'antall_streams': 9339916}\n",
      "{'navn': 'lovely (with Khalid)', 'artist': 'Billie Eilish', 'bilde_url': 'https://i.scdn.co/image/ab67616d00001e028a3f0a3ca7929dea23cd274c', 'plassering': 123, 'forrige_plassering': 123, 'topplassering': 24, 'topp_dato': '2018-06-14', 'uker_paa_listen': 299, 'antall_streams': 9339916}\n",
      "{'navn': 'lovely (with Khalid)', 'artist': 'Billie Eilish', 'bilde_url': 'https://i.scdn.co/image/ab67616d00001e028a3f0a3ca7929dea23cd274c', 'plassering': 123, 'forrige_plassering': 123, 'topplassering': 24, 'topp_dato': '2018-06-14', 'uker_paa_listen': 299, 'antall_streams': 9339916}\n",
      "{'navn': 'lovely (with Khalid)', 'artist': 'Billie Eilish', 'bilde_url': 'https://i.scdn.co/image/ab67616d00001e028a3f0a3ca7929dea23cd274c', 'plassering': 123, 'forrige_plassering': 123, 'topplassering': 24, 'topp_dato': '2018-06-14', 'uker_paa_listen': 299, 'antall_streams': 9339916}\n",
      "{'navn': 'lovely (with Khalid)', 'artist': 'Billie Eilish', 'bilde_url': 'https://i.scdn.co/image/ab67616d00001e028a3f0a3ca7929dea23cd274c', 'plassering': 123, 'forrige_plassering': 123, 'topplassering': 24, 'topp_dato': '2018-06-14', 'uker_paa_listen': 299, 'antall_streams': 9339916}\n",
      "{'navn': 'lovely (with Khalid)', 'artist': 'Billie Eilish', 'bilde_url': 'https://i.scdn.co/image/ab67616d00001e028a3f0a3ca7929dea23cd274c', 'plassering': 123, 'forrige_plassering': 123, 'topplassering': 24, 'topp_dato': '2018-06-14', 'uker_paa_listen': 299, 'antall_streams': 9339916}\n",
      "{'navn': 'lovely (with Khalid)', 'artist': 'Billie Eilish', 'bilde_url': 'https://i.scdn.co/image/ab67616d00001e028a3f0a3ca7929dea23cd274c', 'plassering': 123, 'forrige_plassering': 123, 'topplassering': 24, 'topp_dato': '2018-06-14', 'uker_paa_listen': 299, 'antall_streams': 9339916}\n",
      "{'navn': 'lovely (with Khalid)', 'artist': 'Billie Eilish', 'bilde_url': 'https://i.scdn.co/image/ab67616d00001e028a3f0a3ca7929dea23cd274c', 'plassering': 123, 'forrige_plassering': 123, 'topplassering': 24, 'topp_dato': '2018-06-14', 'uker_paa_listen': 299, 'antall_streams': 9339916}\n",
      "{'navn': 'lovely (with Khalid)', 'artist': 'Billie Eilish', 'bilde_url': 'https://i.scdn.co/image/ab67616d00001e028a3f0a3ca7929dea23cd274c', 'plassering': 123, 'forrige_plassering': 123, 'topplassering': 24, 'topp_dato': '2018-06-14', 'uker_paa_listen': 299, 'antall_streams': 9339916}\n",
      "{'navn': 'lovely (with Khalid)', 'artist': 'Billie Eilish', 'bilde_url': 'https://i.scdn.co/image/ab67616d00001e028a3f0a3ca7929dea23cd274c', 'plassering': 123, 'forrige_plassering': 123, 'topplassering': 24, 'topp_dato': '2018-06-14', 'uker_paa_listen': 299, 'antall_streams': 9339916}\n",
      "{'navn': 'lovely (with Khalid)', 'artist': 'Billie Eilish', 'bilde_url': 'https://i.scdn.co/image/ab67616d00001e028a3f0a3ca7929dea23cd274c', 'plassering': 123, 'forrige_plassering': 123, 'topplassering': 24, 'topp_dato': '2018-06-14', 'uker_paa_listen': 299, 'antall_streams': 9339916}\n",
      "{'navn': 'lovely (with Khalid)', 'artist': 'Billie Eilish', 'bilde_url': 'https://i.scdn.co/image/ab67616d00001e028a3f0a3ca7929dea23cd274c', 'plassering': 123, 'forrige_plassering': 123, 'topplassering': 24, 'topp_dato': '2018-06-14', 'uker_paa_listen': 299, 'antall_streams': 9339916}\n",
      "{'navn': 'lovely (with Khalid)', 'artist': 'Billie Eilish', 'bilde_url': 'https://i.scdn.co/image/ab67616d00001e028a3f0a3ca7929dea23cd274c', 'plassering': 123, 'forrige_plassering': 123, 'topplassering': 24, 'topp_dato': '2018-06-14', 'uker_paa_listen': 299, 'antall_streams': 9339916}\n",
      "{'navn': 'lovely (with Khalid)', 'artist': 'Billie Eilish', 'bilde_url': 'https://i.scdn.co/image/ab67616d00001e028a3f0a3ca7929dea23cd274c', 'plassering': 123, 'forrige_plassering': 123, 'topplassering': 24, 'topp_dato': '2018-06-14', 'uker_paa_listen': 299, 'antall_streams': 9339916}\n",
      "{'navn': 'lovely (with Khalid)', 'artist': 'Billie Eilish', 'bilde_url': 'https://i.scdn.co/image/ab67616d00001e028a3f0a3ca7929dea23cd274c', 'plassering': 123, 'forrige_plassering': 123, 'topplassering': 24, 'topp_dato': '2018-06-14', 'uker_paa_listen': 299, 'antall_streams': 9339916}\n",
      "{'navn': 'lovely (with Khalid)', 'artist': 'Billie Eilish', 'bilde_url': 'https://i.scdn.co/image/ab67616d00001e028a3f0a3ca7929dea23cd274c', 'plassering': 123, 'forrige_plassering': 123, 'topplassering': 24, 'topp_dato': '2018-06-14', 'uker_paa_listen': 299, 'antall_streams': 9339916}\n",
      "{'navn': 'lovely (with Khalid)', 'artist': 'Billie Eilish', 'bilde_url': 'https://i.scdn.co/image/ab67616d00001e028a3f0a3ca7929dea23cd274c', 'plassering': 123, 'forrige_plassering': 123, 'topplassering': 24, 'topp_dato': '2018-06-14', 'uker_paa_listen': 299, 'antall_streams': 9339916}\n",
      "{'navn': 'lovely (with Khalid)', 'artist': 'Billie Eilish', 'bilde_url': 'https://i.scdn.co/image/ab67616d00001e028a3f0a3ca7929dea23cd274c', 'plassering': 123, 'forrige_plassering': 123, 'topplassering': 24, 'topp_dato': '2018-06-14', 'uker_paa_listen': 299, 'antall_streams': 9339916}\n",
      "{'navn': 'lovely (with Khalid)', 'artist': 'Billie Eilish', 'bilde_url': 'https://i.scdn.co/image/ab67616d00001e028a3f0a3ca7929dea23cd274c', 'plassering': 123, 'forrige_plassering': 123, 'topplassering': 24, 'topp_dato': '2018-06-14', 'uker_paa_listen': 299, 'antall_streams': 9339916}\n",
      "{'navn': 'lovely (with Khalid)', 'artist': 'Billie Eilish', 'bilde_url': 'https://i.scdn.co/image/ab67616d00001e028a3f0a3ca7929dea23cd274c', 'plassering': 123, 'forrige_plassering': 123, 'topplassering': 24, 'topp_dato': '2018-06-14', 'uker_paa_listen': 299, 'antall_streams': 9339916}\n",
      "{'navn': 'lovely (with Khalid)', 'artist': 'Billie Eilish', 'bilde_url': 'https://i.scdn.co/image/ab67616d00001e028a3f0a3ca7929dea23cd274c', 'plassering': 123, 'forrige_plassering': 123, 'topplassering': 24, 'topp_dato': '2018-06-14', 'uker_paa_listen': 299, 'antall_streams': 9339916}\n",
      "{'navn': 'lovely (with Khalid)', 'artist': 'Billie Eilish', 'bilde_url': 'https://i.scdn.co/image/ab67616d00001e028a3f0a3ca7929dea23cd274c', 'plassering': 123, 'forrige_plassering': 123, 'topplassering': 24, 'topp_dato': '2018-06-14', 'uker_paa_listen': 299, 'antall_streams': 9339916}\n",
      "{'navn': 'lovely (with Khalid)', 'artist': 'Billie Eilish', 'bilde_url': 'https://i.scdn.co/image/ab67616d00001e028a3f0a3ca7929dea23cd274c', 'plassering': 123, 'forrige_plassering': 123, 'topplassering': 24, 'topp_dato': '2018-06-14', 'uker_paa_listen': 299, 'antall_streams': 9339916}\n",
      "{'navn': 'lovely (with Khalid)', 'artist': 'Billie Eilish', 'bilde_url': 'https://i.scdn.co/image/ab67616d00001e028a3f0a3ca7929dea23cd274c', 'plassering': 123, 'forrige_plassering': 123, 'topplassering': 24, 'topp_dato': '2018-06-14', 'uker_paa_listen': 299, 'antall_streams': 9339916}\n",
      "{'navn': 'lovely (with Khalid)', 'artist': 'Billie Eilish', 'bilde_url': 'https://i.scdn.co/image/ab67616d00001e028a3f0a3ca7929dea23cd274c', 'plassering': 123, 'forrige_plassering': 123, 'topplassering': 24, 'topp_dato': '2018-06-14', 'uker_paa_listen': 299, 'antall_streams': 9339916}\n",
      "{'navn': 'lovely (with Khalid)', 'artist': 'Billie Eilish', 'bilde_url': 'https://i.scdn.co/image/ab67616d00001e028a3f0a3ca7929dea23cd274c', 'plassering': 123, 'forrige_plassering': 123, 'topplassering': 24, 'topp_dato': '2018-06-14', 'uker_paa_listen': 299, 'antall_streams': 9339916}\n",
      "{'navn': 'lovely (with Khalid)', 'artist': 'Billie Eilish', 'bilde_url': 'https://i.scdn.co/image/ab67616d00001e028a3f0a3ca7929dea23cd274c', 'plassering': 123, 'forrige_plassering': 123, 'topplassering': 24, 'topp_dato': '2018-06-14', 'uker_paa_listen': 299, 'antall_streams': 9339916}\n",
      "{'navn': 'lovely (with Khalid)', 'artist': 'Billie Eilish', 'bilde_url': 'https://i.scdn.co/image/ab67616d00001e028a3f0a3ca7929dea23cd274c', 'plassering': 123, 'forrige_plassering': 123, 'topplassering': 24, 'topp_dato': '2018-06-14', 'uker_paa_listen': 299, 'antall_streams': 9339916}\n",
      "{'navn': 'lovely (with Khalid)', 'artist': 'Billie Eilish', 'bilde_url': 'https://i.scdn.co/image/ab67616d00001e028a3f0a3ca7929dea23cd274c', 'plassering': 123, 'forrige_plassering': 123, 'topplassering': 24, 'topp_dato': '2018-06-14', 'uker_paa_listen': 299, 'antall_streams': 9339916}\n",
      "{'navn': 'lovely (with Khalid)', 'artist': 'Billie Eilish', 'bilde_url': 'https://i.scdn.co/image/ab67616d00001e028a3f0a3ca7929dea23cd274c', 'plassering': 123, 'forrige_plassering': 123, 'topplassering': 24, 'topp_dato': '2018-06-14', 'uker_paa_listen': 299, 'antall_streams': 9339916}\n",
      "{'navn': 'lovely (with Khalid)', 'artist': 'Billie Eilish', 'bilde_url': 'https://i.scdn.co/image/ab67616d00001e028a3f0a3ca7929dea23cd274c', 'plassering': 123, 'forrige_plassering': 123, 'topplassering': 24, 'topp_dato': '2018-06-14', 'uker_paa_listen': 299, 'antall_streams': 9339916}\n",
      "{'navn': 'lovely (with Khalid)', 'artist': 'Billie Eilish', 'bilde_url': 'https://i.scdn.co/image/ab67616d00001e028a3f0a3ca7929dea23cd274c', 'plassering': 123, 'forrige_plassering': 123, 'topplassering': 24, 'topp_dato': '2018-06-14', 'uker_paa_listen': 299, 'antall_streams': 9339916}\n",
      "{'navn': 'lovely (with Khalid)', 'artist': 'Billie Eilish', 'bilde_url': 'https://i.scdn.co/image/ab67616d00001e028a3f0a3ca7929dea23cd274c', 'plassering': 123, 'forrige_plassering': 123, 'topplassering': 24, 'topp_dato': '2018-06-14', 'uker_paa_listen': 299, 'antall_streams': 9339916}\n",
      "{'navn': 'Perfect', 'artist': 'Ed Sheeran', 'bilde_url': 'https://i.scdn.co/image/ab67616d00001e02ba5db46f4b838ef6027e6f96', 'plassering': 157, 'forrige_plassering': 157, 'topplassering': 4, 'topp_dato': '2017-11-30', 'uker_paa_listen': 354, 'antall_streams': 8600094}\n",
      "{'navn': 'Perfect', 'artist': 'Ed Sheeran', 'bilde_url': 'https://i.scdn.co/image/ab67616d00001e02ba5db46f4b838ef6027e6f96', 'plassering': 157, 'forrige_plassering': 157, 'topplassering': 4, 'topp_dato': '2017-11-30', 'uker_paa_listen': 354, 'antall_streams': 8600094}\n",
      "{'navn': 'Perfect', 'artist': 'Ed Sheeran', 'bilde_url': 'https://i.scdn.co/image/ab67616d00001e02ba5db46f4b838ef6027e6f96', 'plassering': 157, 'forrige_plassering': 157, 'topplassering': 4, 'topp_dato': '2017-11-30', 'uker_paa_listen': 354, 'antall_streams': 8600094}\n",
      "{'navn': 'Perfect', 'artist': 'Ed Sheeran', 'bilde_url': 'https://i.scdn.co/image/ab67616d00001e02ba5db46f4b838ef6027e6f96', 'plassering': 157, 'forrige_plassering': 157, 'topplassering': 4, 'topp_dato': '2017-11-30', 'uker_paa_listen': 354, 'antall_streams': 8600094}\n",
      "{'navn': 'Perfect', 'artist': 'Ed Sheeran', 'bilde_url': 'https://i.scdn.co/image/ab67616d00001e02ba5db46f4b838ef6027e6f96', 'plassering': 157, 'forrige_plassering': 157, 'topplassering': 4, 'topp_dato': '2017-11-30', 'uker_paa_listen': 354, 'antall_streams': 8600094}\n",
      "{'navn': 'Perfect', 'artist': 'Ed Sheeran', 'bilde_url': 'https://i.scdn.co/image/ab67616d00001e02ba5db46f4b838ef6027e6f96', 'plassering': 157, 'forrige_plassering': 157, 'topplassering': 4, 'topp_dato': '2017-11-30', 'uker_paa_listen': 354, 'antall_streams': 8600094}\n",
      "{'navn': 'Perfect', 'artist': 'Ed Sheeran', 'bilde_url': 'https://i.scdn.co/image/ab67616d00001e02ba5db46f4b838ef6027e6f96', 'plassering': 157, 'forrige_plassering': 157, 'topplassering': 4, 'topp_dato': '2017-11-30', 'uker_paa_listen': 354, 'antall_streams': 8600094}\n",
      "{'navn': 'Perfect', 'artist': 'Ed Sheeran', 'bilde_url': 'https://i.scdn.co/image/ab67616d00001e02ba5db46f4b838ef6027e6f96', 'plassering': 157, 'forrige_plassering': 157, 'topplassering': 4, 'topp_dato': '2017-11-30', 'uker_paa_listen': 354, 'antall_streams': 8600094}\n",
      "{'navn': 'Perfect', 'artist': 'Ed Sheeran', 'bilde_url': 'https://i.scdn.co/image/ab67616d00001e02ba5db46f4b838ef6027e6f96', 'plassering': 157, 'forrige_plassering': 157, 'topplassering': 4, 'topp_dato': '2017-11-30', 'uker_paa_listen': 354, 'antall_streams': 8600094}\n",
      "{'navn': 'Perfect', 'artist': 'Ed Sheeran', 'bilde_url': 'https://i.scdn.co/image/ab67616d00001e02ba5db46f4b838ef6027e6f96', 'plassering': 157, 'forrige_plassering': 157, 'topplassering': 4, 'topp_dato': '2017-11-30', 'uker_paa_listen': 354, 'antall_streams': 8600094}\n",
      "{'navn': 'Perfect', 'artist': 'Ed Sheeran', 'bilde_url': 'https://i.scdn.co/image/ab67616d00001e02ba5db46f4b838ef6027e6f96', 'plassering': 157, 'forrige_plassering': 157, 'topplassering': 4, 'topp_dato': '2017-11-30', 'uker_paa_listen': 354, 'antall_streams': 8600094}\n",
      "{'navn': 'Perfect', 'artist': 'Ed Sheeran', 'bilde_url': 'https://i.scdn.co/image/ab67616d00001e02ba5db46f4b838ef6027e6f96', 'plassering': 157, 'forrige_plassering': 157, 'topplassering': 4, 'topp_dato': '2017-11-30', 'uker_paa_listen': 354, 'antall_streams': 8600094}\n",
      "{'navn': 'Perfect', 'artist': 'Ed Sheeran', 'bilde_url': 'https://i.scdn.co/image/ab67616d00001e02ba5db46f4b838ef6027e6f96', 'plassering': 157, 'forrige_plassering': 157, 'topplassering': 4, 'topp_dato': '2017-11-30', 'uker_paa_listen': 354, 'antall_streams': 8600094}\n",
      "{'navn': 'Perfect', 'artist': 'Ed Sheeran', 'bilde_url': 'https://i.scdn.co/image/ab67616d00001e02ba5db46f4b838ef6027e6f96', 'plassering': 157, 'forrige_plassering': 157, 'topplassering': 4, 'topp_dato': '2017-11-30', 'uker_paa_listen': 354, 'antall_streams': 8600094}\n",
      "{'navn': 'Perfect', 'artist': 'Ed Sheeran', 'bilde_url': 'https://i.scdn.co/image/ab67616d00001e02ba5db46f4b838ef6027e6f96', 'plassering': 157, 'forrige_plassering': 157, 'topplassering': 4, 'topp_dato': '2017-11-30', 'uker_paa_listen': 354, 'antall_streams': 8600094}\n",
      "{'navn': 'Perfect', 'artist': 'Ed Sheeran', 'bilde_url': 'https://i.scdn.co/image/ab67616d00001e02ba5db46f4b838ef6027e6f96', 'plassering': 157, 'forrige_plassering': 157, 'topplassering': 4, 'topp_dato': '2017-11-30', 'uker_paa_listen': 354, 'antall_streams': 8600094}\n",
      "{'navn': 'Believer', 'artist': 'Imagine Dragons', 'bilde_url': 'https://i.scdn.co/image/ab67616d00001e025675e83f707f1d7271e5cf8a', 'plassering': 173, 'forrige_plassering': 173, 'topplassering': 16, 'topp_dato': '2017-06-29', 'uker_paa_listen': 358, 'antall_streams': 8322500}\n",
      "{'navn': 'Believer', 'artist': 'Imagine Dragons', 'bilde_url': 'https://i.scdn.co/image/ab67616d00001e025675e83f707f1d7271e5cf8a', 'plassering': 173, 'forrige_plassering': 173, 'topplassering': 16, 'topp_dato': '2017-06-29', 'uker_paa_listen': 358, 'antall_streams': 8322500}\n",
      "{'navn': 'Believer', 'artist': 'Imagine Dragons', 'bilde_url': 'https://i.scdn.co/image/ab67616d00001e025675e83f707f1d7271e5cf8a', 'plassering': 173, 'forrige_plassering': 173, 'topplassering': 16, 'topp_dato': '2017-06-29', 'uker_paa_listen': 358, 'antall_streams': 8322500}\n",
      "{'navn': 'Believer', 'artist': 'Imagine Dragons', 'bilde_url': 'https://i.scdn.co/image/ab67616d00001e025675e83f707f1d7271e5cf8a', 'plassering': 173, 'forrige_plassering': 173, 'topplassering': 16, 'topp_dato': '2017-06-29', 'uker_paa_listen': 358, 'antall_streams': 8322500}\n",
      "{'navn': 'Believer', 'artist': 'Imagine Dragons', 'bilde_url': 'https://i.scdn.co/image/ab67616d00001e025675e83f707f1d7271e5cf8a', 'plassering': 173, 'forrige_plassering': 173, 'topplassering': 16, 'topp_dato': '2017-06-29', 'uker_paa_listen': 358, 'antall_streams': 8322500}\n",
      "{'navn': 'Believer', 'artist': 'Imagine Dragons', 'bilde_url': 'https://i.scdn.co/image/ab67616d00001e025675e83f707f1d7271e5cf8a', 'plassering': 173, 'forrige_plassering': 173, 'topplassering': 16, 'topp_dato': '2017-06-29', 'uker_paa_listen': 358, 'antall_streams': 8322500}\n",
      "{'navn': 'Believer', 'artist': 'Imagine Dragons', 'bilde_url': 'https://i.scdn.co/image/ab67616d00001e025675e83f707f1d7271e5cf8a', 'plassering': 173, 'forrige_plassering': 173, 'topplassering': 16, 'topp_dato': '2017-06-29', 'uker_paa_listen': 358, 'antall_streams': 8322500}\n",
      "{'navn': 'Believer', 'artist': 'Imagine Dragons', 'bilde_url': 'https://i.scdn.co/image/ab67616d00001e025675e83f707f1d7271e5cf8a', 'plassering': 173, 'forrige_plassering': 173, 'topplassering': 16, 'topp_dato': '2017-06-29', 'uker_paa_listen': 358, 'antall_streams': 8322500}\n",
      "{'navn': 'Believer', 'artist': 'Imagine Dragons', 'bilde_url': 'https://i.scdn.co/image/ab67616d00001e025675e83f707f1d7271e5cf8a', 'plassering': 173, 'forrige_plassering': 173, 'topplassering': 16, 'topp_dato': '2017-06-29', 'uker_paa_listen': 358, 'antall_streams': 8322500}\n",
      "{'navn': 'Believer', 'artist': 'Imagine Dragons', 'bilde_url': 'https://i.scdn.co/image/ab67616d00001e025675e83f707f1d7271e5cf8a', 'plassering': 173, 'forrige_plassering': 173, 'topplassering': 16, 'topp_dato': '2017-06-29', 'uker_paa_listen': 358, 'antall_streams': 8322500}\n",
      "{'navn': 'Believer', 'artist': 'Imagine Dragons', 'bilde_url': 'https://i.scdn.co/image/ab67616d00001e025675e83f707f1d7271e5cf8a', 'plassering': 173, 'forrige_plassering': 173, 'topplassering': 16, 'topp_dato': '2017-06-29', 'uker_paa_listen': 358, 'antall_streams': 8322500}\n",
      "{'navn': 'Believer', 'artist': 'Imagine Dragons', 'bilde_url': 'https://i.scdn.co/image/ab67616d00001e025675e83f707f1d7271e5cf8a', 'plassering': 173, 'forrige_plassering': 173, 'topplassering': 16, 'topp_dato': '2017-06-29', 'uker_paa_listen': 358, 'antall_streams': 8322500}\n",
      "{'navn': 'Believer', 'artist': 'Imagine Dragons', 'bilde_url': 'https://i.scdn.co/image/ab67616d00001e025675e83f707f1d7271e5cf8a', 'plassering': 173, 'forrige_plassering': 173, 'topplassering': 16, 'topp_dato': '2017-06-29', 'uker_paa_listen': 358, 'antall_streams': 8322500}\n",
      "{'navn': 'Believer', 'artist': 'Imagine Dragons', 'bilde_url': 'https://i.scdn.co/image/ab67616d00001e025675e83f707f1d7271e5cf8a', 'plassering': 173, 'forrige_plassering': 173, 'topplassering': 16, 'topp_dato': '2017-06-29', 'uker_paa_listen': 358, 'antall_streams': 8322500}\n",
      "{'navn': 'Believer', 'artist': 'Imagine Dragons', 'bilde_url': 'https://i.scdn.co/image/ab67616d00001e025675e83f707f1d7271e5cf8a', 'plassering': 173, 'forrige_plassering': 173, 'topplassering': 16, 'topp_dato': '2017-06-29', 'uker_paa_listen': 358, 'antall_streams': 8322500}\n",
      "{'navn': 'Believer', 'artist': 'Imagine Dragons', 'bilde_url': 'https://i.scdn.co/image/ab67616d00001e025675e83f707f1d7271e5cf8a', 'plassering': 173, 'forrige_plassering': 173, 'topplassering': 16, 'topp_dato': '2017-06-29', 'uker_paa_listen': 358, 'antall_streams': 8322500}\n",
      "{'navn': 'Believer', 'artist': 'Imagine Dragons', 'bilde_url': 'https://i.scdn.co/image/ab67616d00001e025675e83f707f1d7271e5cf8a', 'plassering': 173, 'forrige_plassering': 173, 'topplassering': 16, 'topp_dato': '2017-06-29', 'uker_paa_listen': 358, 'antall_streams': 8322500}\n",
      "{'navn': 'Believer', 'artist': 'Imagine Dragons', 'bilde_url': 'https://i.scdn.co/image/ab67616d00001e025675e83f707f1d7271e5cf8a', 'plassering': 173, 'forrige_plassering': 173, 'topplassering': 16, 'topp_dato': '2017-06-29', 'uker_paa_listen': 358, 'antall_streams': 8322500}\n",
      "{'navn': 'Believer', 'artist': 'Imagine Dragons', 'bilde_url': 'https://i.scdn.co/image/ab67616d00001e025675e83f707f1d7271e5cf8a', 'plassering': 173, 'forrige_plassering': 173, 'topplassering': 16, 'topp_dato': '2017-06-29', 'uker_paa_listen': 358, 'antall_streams': 8322500}\n",
      "{'navn': 'Believer', 'artist': 'Imagine Dragons', 'bilde_url': 'https://i.scdn.co/image/ab67616d00001e025675e83f707f1d7271e5cf8a', 'plassering': 173, 'forrige_plassering': 173, 'topplassering': 16, 'topp_dato': '2017-06-29', 'uker_paa_listen': 358, 'antall_streams': 8322500}\n",
      "{'navn': 'Believer', 'artist': 'Imagine Dragons', 'bilde_url': 'https://i.scdn.co/image/ab67616d00001e025675e83f707f1d7271e5cf8a', 'plassering': 173, 'forrige_plassering': 173, 'topplassering': 16, 'topp_dato': '2017-06-29', 'uker_paa_listen': 358, 'antall_streams': 8322500}\n",
      "{'navn': 'Believer', 'artist': 'Imagine Dragons', 'bilde_url': 'https://i.scdn.co/image/ab67616d00001e025675e83f707f1d7271e5cf8a', 'plassering': 173, 'forrige_plassering': 173, 'topplassering': 16, 'topp_dato': '2017-06-29', 'uker_paa_listen': 358, 'antall_streams': 8322500}\n",
      "{'navn': 'Believer', 'artist': 'Imagine Dragons', 'bilde_url': 'https://i.scdn.co/image/ab67616d00001e025675e83f707f1d7271e5cf8a', 'plassering': 173, 'forrige_plassering': 173, 'topplassering': 16, 'topp_dato': '2017-06-29', 'uker_paa_listen': 358, 'antall_streams': 8322500}\n",
      "{'navn': 'Believer', 'artist': 'Imagine Dragons', 'bilde_url': 'https://i.scdn.co/image/ab67616d00001e025675e83f707f1d7271e5cf8a', 'plassering': 173, 'forrige_plassering': 173, 'topplassering': 16, 'topp_dato': '2017-06-29', 'uker_paa_listen': 358, 'antall_streams': 8322500}\n",
      "{'navn': 'Believer', 'artist': 'Imagine Dragons', 'bilde_url': 'https://i.scdn.co/image/ab67616d00001e025675e83f707f1d7271e5cf8a', 'plassering': 173, 'forrige_plassering': 173, 'topplassering': 16, 'topp_dato': '2017-06-29', 'uker_paa_listen': 358, 'antall_streams': 8322500}\n",
      "{'navn': 'Believer', 'artist': 'Imagine Dragons', 'bilde_url': 'https://i.scdn.co/image/ab67616d00001e025675e83f707f1d7271e5cf8a', 'plassering': 173, 'forrige_plassering': 173, 'topplassering': 16, 'topp_dato': '2017-06-29', 'uker_paa_listen': 358, 'antall_streams': 8322500}\n",
      "{'navn': 'Believer', 'artist': 'Imagine Dragons', 'bilde_url': 'https://i.scdn.co/image/ab67616d00001e025675e83f707f1d7271e5cf8a', 'plassering': 173, 'forrige_plassering': 173, 'topplassering': 16, 'topp_dato': '2017-06-29', 'uker_paa_listen': 358, 'antall_streams': 8322500}\n",
      "{'navn': 'Believer', 'artist': 'Imagine Dragons', 'bilde_url': 'https://i.scdn.co/image/ab67616d00001e025675e83f707f1d7271e5cf8a', 'plassering': 173, 'forrige_plassering': 173, 'topplassering': 16, 'topp_dato': '2017-06-29', 'uker_paa_listen': 358, 'antall_streams': 8322500}\n"
     ]
    }
   ],
   "source": [
    "høyest = data[0]\n",
    "for sang in data:\n",
    "    if sang[\"uker_paa_listen\"] > høyest[\"uker_paa_listen\"]:\n",
    "        høyest = sang\n",
    "    print(høyest)"
   ]
  },
  {
   "cell_type": "code",
   "execution_count": 9,
   "metadata": {},
   "outputs": [
    {
     "name": "stdout",
     "output_type": "stream",
     "text": [
      "Gjennomsnittelig antall uker på lista 55.41\n"
     ]
    }
   ],
   "source": [
    "total = 0\n",
    "antall = 0\n",
    "for sang in data:\n",
    "    total += sang[\"uker_paa_listen\"]\n",
    "    antall += 1\n",
    "print(\"Gjennomsnittelig antall uker på lista\", total / antall)"
   ]
  },
  {
   "cell_type": "code",
   "execution_count": 15,
   "metadata": {},
   "outputs": [
    {
     "name": "stdout",
     "output_type": "stream",
     "text": [
      "Taylor swift har 120017297 antall streams, som gir et snitt på 12001729.7 per sang\n"
     ]
    }
   ],
   "source": [
    "total = 0\n",
    "antall = 0\n",
    "for sang in data:\n",
    "    if sang[\"artist\"] == \"Taylor Swift\":\n",
    "        total += sang[\"antall_streams\"]\n",
    "        antall += 1\n",
    "print(f\"Taylor swift har {total} antall streams, som gir et snitt på {total/antall} per sang\")"
   ]
  }
 ],
 "metadata": {
  "kernelspec": {
   "display_name": "Python 3",
   "language": "python",
   "name": "python3"
  },
  "language_info": {
   "codemirror_mode": {
    "name": "ipython",
    "version": 3
   },
   "file_extension": ".py",
   "mimetype": "text/x-python",
   "name": "python",
   "nbconvert_exporter": "python",
   "pygments_lexer": "ipython3",
   "version": "3.11.1"
  }
 },
 "nbformat": 4,
 "nbformat_minor": 2
}
