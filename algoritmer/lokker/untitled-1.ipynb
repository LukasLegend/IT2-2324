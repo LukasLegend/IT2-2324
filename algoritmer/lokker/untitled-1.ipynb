{
 "cells": [
  {
   "cell_type": "code",
   "execution_count": 1,
   "metadata": {},
   "outputs": [
    {
     "name": "stdout",
     "output_type": "stream",
     "text": [
      "10\n",
      "9\n",
      "8\n",
      "7\n",
      "6\n",
      "5\n",
      "4\n",
      "3\n",
      "2\n",
      "1\n"
     ]
    }
   ],
   "source": [
    "#while løkker\n",
    "teller = 10\n",
    "while teller > 0:\n",
    "    print(teller)\n",
    "    teller -= 1"
   ]
  },
  {
   "cell_type": "code",
   "execution_count": 2,
   "metadata": {},
   "outputs": [
    {
     "name": "stdout",
     "output_type": "stream",
     "text": [
      "1\n",
      "2\n",
      "3\n",
      "4\n",
      "5\n",
      "6\n",
      "7\n",
      "8\n",
      "9\n",
      "10\n",
      "J\n",
      "a\n",
      " \n",
      "v\n",
      "i\n",
      " \n",
      "e\n",
      "l\n",
      "s\n",
      "k\n",
      "e\n",
      "r\n"
     ]
    }
   ],
   "source": [
    "#For løkker\n",
    "#Brukes for å gå gjennom en sekvens\n",
    "#En samling med ting feks en liste med tall eller en orbok med nøkler\n",
    "\n",
    "for tall in [1,2,3,4,5,6,7,8,9,10]:\n",
    "    print(tall)\n",
    "\n",
    "for bokstav in (\"Ja vi elsker\"):\n",
    "    print(bokstav)"
   ]
  },
  {
   "cell_type": "code",
   "execution_count": 5,
   "metadata": {},
   "outputs": [
    {
     "name": "stdout",
     "output_type": "stream",
     "text": [
      "1\n",
      "2\n",
      "3\n",
      "4\n",
      "5\n",
      "6\n",
      "7\n",
      "8\n",
      "9\n",
      "10\n",
      "1\n",
      "2\n",
      "3\n",
      "4\n",
      "5\n",
      "6\n",
      "7\n",
      "8\n",
      "9\n",
      "10\n",
      "1\n",
      "2\n",
      "3\n",
      "4\n",
      "5\n",
      "6\n",
      "7\n",
      "10\n",
      "9\n",
      "8\n",
      "7\n",
      "6\n",
      "5\n",
      "4\n",
      "3\n",
      "2\n",
      "1\n"
     ]
    }
   ],
   "source": [
    "#range\n",
    "#range(stgar, slutt_før, steg) innebyg funksjon som gir sekvens med tall\n",
    "#Kan bruke i for løkker\n",
    "\n",
    "for tall in [1,2,3,4,5,6,7,8,9,10]:\n",
    "    print(tall)\n",
    "\n",
    "for tall in range(1,11,1): #For hvert tall i sekvensen som starter på 1, slutter før 11 og øker med 1\n",
    "    print(tall)\n",
    "\n",
    "    #eksperttips\n",
    "    #hvis vi starter på 0 trenger vi ikke start argument\n",
    "    #hvis vi skal øke med 1, trenger vi ikke skrive steg argument\n",
    "    \n",
    "for tall in range(1,8,1):\n",
    "    print(tall)\n",
    "\n",
    "for tall in range(10,0,-1):\n",
    "    print(tall)"
   ]
  },
  {
   "cell_type": "code",
   "execution_count": null,
   "metadata": {},
   "outputs": [],
   "source": [
    "ravi = {\n",
    "    \"navn\": \"David Ravi\",\n",
    "    \"alder\": 43,\n",
    "    \"yrke\": \"mattelærer\",\n",
    "    \"favorittaktivitet\": \"gaming\",\n",
    "    \"favorittdrikk\": \"databrus\",\n",
    "    123: \"favorittall\"\n",
    "    #nøkkel, verdi\n",
    "}\n",
    "\n",
    "\n",
    "\n",
    "print(ravi[\"yrke\"])\n",
    "print(ravi[123])"
   ]
  }
 ],
 "metadata": {
  "kernelspec": {
   "display_name": "Python 3",
   "language": "python",
   "name": "python3"
  },
  "language_info": {
   "codemirror_mode": {
    "name": "ipython",
    "version": 3
   },
   "file_extension": ".py",
   "mimetype": "text/x-python",
   "name": "python",
   "nbconvert_exporter": "python",
   "pygments_lexer": "ipython3",
   "version": "3.11.1"
  }
 },
 "nbformat": 4,
 "nbformat_minor": 2
}
