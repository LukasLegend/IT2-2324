{
 "cells": [
  {
   "cell_type": "markdown",
   "metadata": {},
   "source": [
    "# Lekse uke 4\n",
    "\n",
    "> IT-uke 18\n",
    "\n",
    "Oppgave 2.9 og 2.10 fra [it2.thorcc.no](https://it2.thorcc.no)"
   ]
  },
  {
   "cell_type": "markdown",
   "metadata": {},
   "source": [
    "### Oppgave 2.9\n",
    "\n",
    "1. Print ordboken til den første spilleren.\n",
    "2. Lag en for-løkke som printer navn og nasjonalitet på hver spiller.\n",
    "3. Utvid koden slik at for-løkken også printer antall gullballer spillerne har vunnet."
   ]
  },
  {
   "cell_type": "code",
   "execution_count": 2,
   "metadata": {},
   "outputs": [],
   "source": [
    "gullballen = [\n",
    "  {\n",
    "    \"navn\": \"Luís Figo\",\n",
    "    \"år\": [2000],\n",
    "    \"nasjonalitet\": \"Portugal\",\n",
    "    \"klubber\": [\"Real Madrid\"]\n",
    "  },\n",
    "  {\n",
    "    \"navn\": \"Michael Owen\",\n",
    "    \"år\": [2001],\n",
    "    \"nasjonalitet\": \"England\",\n",
    "    \"klubber\": [\"Liverpool\"]\n",
    "  },\n",
    "  {\n",
    "    \"navn\": \"Ronaldo\",\n",
    "    \"år\": [2002],\n",
    "    \"nasjonalitet\": \"Brasil\",\n",
    "    \"klubber\": [\"Real Madrid\"]\n",
    "  },\n",
    "  {\n",
    "    \"navn\": \"Pavel Nedvěd\",\n",
    "    \"år\": [2003],\n",
    "    \"nasjonalitet\": \"Tsjekkia\",\n",
    "    \"klubber\": [\"Juventus\"]\n",
    "  },\n",
    "  {\n",
    "    \"navn\": \"Andriy Shevchenko\",\n",
    "    \"år\": [2004],\n",
    "    \"nasjonalitet\": \"Ukraina\",\n",
    "    \"klubber\": [\"Milan\"]\n",
    "  },\n",
    "  {\n",
    "    \"navn\": \"Ronaldinho\",\n",
    "    \"år\": [2005],\n",
    "    \"nasjonalitet\": \"Brasil\",\n",
    "    \"klubber\": [\"Barcelona\"]\n",
    "  },\n",
    "  {\n",
    "    \"navn\": \"Fabio Cannavaro\",\n",
    "    \"år\": [2006],\n",
    "    \"nasjonalitet\": \"Italia\",\n",
    "    \"klubber\": [\"Real Madrid\"]\n",
    "  },\n",
    "  {\n",
    "    \"navn\": \"Kaká\",\n",
    "    \"år\": [2007],\n",
    "    \"nasjonalitet\": \"Brasil\",\n",
    "    \"klubber\": [\"Milan\"]\n",
    "  },\n",
    "  {\n",
    "    \"navn\": \"Cristiano Ronaldo\",\n",
    "    \"år\": [2008, 2013, 2014, 2016, 2017],\n",
    "    \"nasjonalitet\": \"Portugal\",\n",
    "    \"klubber\": [\"Manchester United\", \"Real Madrid\"]\n",
    "  },\n",
    "  {\n",
    "    \"navn\": \"Lionel Messi\",\n",
    "    \"år\": [2009, 2010, 2011, 2012, 2015, 2019, 2021, 2023],\n",
    "    \"nasjonalitet\": \"Argentina\",\n",
    "    \"klubber\": [\"Barcelona\", \"Paris Saint-Germain F.C.\", \"Inter Miami\"]\n",
    "  },\n",
    "  {\n",
    "    \"navn\": \"Luka Modric\",\n",
    "    \"år\": [2018],\n",
    "    \"nasjonalitet\": \"Kroatia\",\n",
    "    \"klubber\": [\"Real Madrid\"]\n",
    "  },\n",
    "  {\n",
    "    \"navn\": \"Karim Benzema\",\n",
    "    \"år\": [2022],\n",
    "    \"nasjonalitet\": \"Frankrike\",\n",
    "    \"klubber\": [\"Real Madrid\"]\n",
    "  }\n",
    "]\n",
    "# OBS! Trykk play på denne kodeblokken,\n",
    "# slik at den putter listen i PC-ens minne"
   ]
  },
  {
   "cell_type": "code",
   "execution_count": 3,
   "metadata": {},
   "outputs": [
    {
     "name": "stdout",
     "output_type": "stream",
     "text": [
      "{'navn': 'Luís Figo', 'år': [2000], 'nasjonalitet': 'Portugal', 'klubber': ['Real Madrid']}\n"
     ]
    }
   ],
   "source": [
    "# 1. Print ordboken til den første spilleren.\n",
    "print(gullballen[0])"
   ]
  },
  {
   "cell_type": "code",
   "execution_count": 4,
   "metadata": {},
   "outputs": [
    {
     "name": "stdout",
     "output_type": "stream",
     "text": [
      "Luís Figo Portugal\n",
      "Michael Owen England\n",
      "Ronaldo Brasil\n",
      "Pavel Nedvěd Tsjekkia\n",
      "Andriy Shevchenko Ukraina\n",
      "Ronaldinho Brasil\n",
      "Fabio Cannavaro Italia\n",
      "Kaká Brasil\n",
      "Cristiano Ronaldo Portugal\n",
      "Lionel Messi Argentina\n",
      "Luka Modric Kroatia\n",
      "Karim Benzema Frankrike\n"
     ]
    }
   ],
   "source": [
    "# 2. Lag en for-løkke som printer navn og nasjonalitet på hver spiller.\n",
    "for spiller in gullballen:\n",
    "    print(spiller[\"navn\"], spiller[\"nasjonalitet\"])"
   ]
  },
  {
   "cell_type": "code",
   "execution_count": 5,
   "metadata": {},
   "outputs": [
    {
     "name": "stdout",
     "output_type": "stream",
     "text": [
      "Luís Figo Portugal 1\n",
      "Michael Owen England 1\n",
      "Ronaldo Brasil 1\n",
      "Pavel Nedvěd Tsjekkia 1\n",
      "Andriy Shevchenko Ukraina 1\n",
      "Ronaldinho Brasil 1\n",
      "Fabio Cannavaro Italia 1\n",
      "Kaká Brasil 1\n",
      "Cristiano Ronaldo Portugal 5\n",
      "Lionel Messi Argentina 8\n",
      "Luka Modric Kroatia 1\n",
      "Karim Benzema Frankrike 1\n"
     ]
    }
   ],
   "source": [
    "# 3. Utvid koden slik at for-løkken også printer antall gullballer \n",
    "#    spillerne har vunnet.\n",
    "\n",
    "for spiller in gullballen:\n",
    "    gullballer = len(spiller[\"år\"])\n",
    "    print(spiller[\"navn\"], spiller[\"nasjonalitet\"], gullballer)\n"
   ]
  },
  {
   "cell_type": "markdown",
   "metadata": {},
   "source": [
    "### Oppgave 2.10\n",
    "\n",
    "1. Hvor mange følgere har kontoene på listen i gjennomsnitt?\n",
    "2. Hvor mange kontoer på listen kommer ikke fra USA?"
   ]
  },
  {
   "cell_type": "code",
   "execution_count": 6,
   "metadata": {},
   "outputs": [],
   "source": [
    "topp_30 = [\n",
    "    {\"name\": \"Cristiano Ronaldo\", \"account\": \"@cristiano\", \"followers\": 617.16, \"nationality\": \"Portugal\"},\n",
    "    {\"name\": \"Leo Messi\", \"account\": \"@leomessi\", \"followers\": 497.05, \"nationality\": \"Argentina\"},\n",
    "    {\"name\": \"Selena Gomez\", \"account\": \"@selenagomez\", \"followers\": 429.66, \"nationality\": \"United States\"},\n",
    "    {\"name\": \"Kylie Jenner\", \"account\": \"@kyliejenner\", \"followers\": 399.45, \"nationality\": \"United States\"},\n",
    "    {\"name\": \"Dwayne Johnson\", \"account\": \"@therock\", \"followers\": 395.59, \"nationality\": \"United States\"},\n",
    "    {\"name\": \"Ariana Grande\", \"account\": \"@arianagrande\", \"followers\": 380.78, \"nationality\": \"United States\"},\n",
    "    {\"name\": \"Kim Kardashian\", \"account\": \"@kimkardashian\", \"followers\": 364, \"nationality\": \"United States\"},\n",
    "    {\"name\": \"Beyoncé\", \"account\": \"@beyonce\", \"followers\": 319.6, \"nationality\": \"United States\"},\n",
    "    {\"name\": \"Khloé Kardashian\", \"account\": \"@khloekardashian\", \"followers\": 311.3, \"nationality\": \"United States\"},\n",
    "    {\"name\": \"Nike\", \"account\": \"@nike\", \"followers\": 306, \"nationality\": \"United States\"},\n",
    "    {\"name\": \"Justin Bieber\", \"account\": \"@justinbieber\", \"followers\": 304.9, \"nationality\": \"Canada\"},\n",
    "    {\"name\": \"Taylor Swift\", \"account\": \"@taylorswift\", \"followers\": 282.8, \"nationality\": \"United States\"},\n",
    "    {\"name\": \"Neymar Jr\", \"account\": \"@neymarjr\", \"followers\": 282.7, \"nationality\": \"Brazil\"},\n",
    "    {\"name\": \"Kendall Jenner\", \"account\": \"@kendalljenner\", \"followers\": 279.9, \"nationality\": \"United States\"},\n",
    "    {\"name\": \"Jennifer Lopez\", \"account\": \"@jlo\", \"followers\": 277.2, \"nationality\": \"United States\"},\n",
    "    {\"name\": \"Nicki Minaj\", \"account\": \"@nickiminaj\", \"followers\": 262.5, \"nationality\": \"Trinidad and Tobago\"},\n",
    "    {\"name\": \"National Geographic\", \"account\": \"@natgeo\", \"followers\": 206.9, \"nationality\": \"United States\"},\n",
    "    {\"name\": \"Lionel Andrés Messi Cuccittini\", \"account\": \"@leomessi10\", \"followers\": 201.8, \"nationality\": \"Argentina\"},\n",
    "    {\"name\": \"Miley Cyrus\", \"account\": \"@mileycyrus\", \"followers\": 198.7, \"nationality\": \"United States\"},\n",
    "    {\"name\": \"Katy Perry\", \"account\": \"@katyperry\", \"followers\": 198.4, \"nationality\": \"United States\"},\n",
    "    {\"name\": \"Kourtney Kardashian\", \"account\": \"@kourtneykardash\", \"followers\": 196.8, \"nationality\": \"United States\"},\n",
    "    {\"name\": \"Kevin Hart\", \"account\": \"@kevinhart4real\", \"followers\": 195.8, \"nationality\": \"United States\"},\n",
    "    {\"name\": \"Ellen DeGeneres\", \"account\": \"@theellenshow\", \"followers\": 194.7, \"nationality\": \"United States\"},\n",
    "    {\"name\": \"Virat Kohli\", \"account\": \"@virat.kohli\", \"followers\": 194.5, \"nationality\": \"India\"},\n",
    "    {\"name\": \"Billie Eilish\", \"account\": \"@billieeilish\", \"followers\": 193.9, \"nationality\": \"United States\"},\n",
    "    {\"name\": \"Rihanna\", \"account\": \"@badgalriri\", \"followers\": 191.5, \"nationality\": \"Barbados\"},\n",
    "    {\"name\": \"Zendaya\", \"account\": \"@zendaya\", \"followers\": 190.9, \"nationality\": \"United States\"},\n",
    "    {\"name\": \"Drake\", \"account\": \"@champagnepapi\", \"followers\": 190.8, \"nationality\": \"Canada\"},\n",
    "    {\"name\": \"Emma Watson\", \"account\": \"@emmawatson\", \"followers\": 189.7, \"nationality\": \"United Kingdom\"},\n",
    "    {\"name\": \"LeBron James\", \"account\": \"@kingjames\", \"followers\": 188.8, \"nationality\": \"United States\"}\n",
    "]"
   ]
  },
  {
   "cell_type": "code",
   "execution_count": 7,
   "metadata": {},
   "outputs": [
    {
     "name": "stdout",
     "output_type": "stream",
     "text": [
      "281.45966666666664\n"
     ]
    }
   ],
   "source": [
    "# 1. Hvor mange følgere har kontoene på listen i gjennomsnitt?\n",
    "sum_følgere = 0\n",
    "antall = 0\n",
    "for artist in topp_30:\n",
    "    sum_følgere += artist[\"followers\"]\n",
    "    antall += 1\n",
    "print(sum_følgere/antall)"
   ]
  },
  {
   "cell_type": "code",
   "execution_count": 8,
   "metadata": {},
   "outputs": [
    {
     "name": "stdout",
     "output_type": "stream",
     "text": [
      "10\n"
     ]
    }
   ],
   "source": [
    "# 2. Hvor mange kontoer på listen kommer ikke fra USA?\n",
    "antall = 0\n",
    "for artist in topp_30:\n",
    "    if artist[\"nationality\"] == \"United States\":\n",
    "        antall = antall\n",
    "    else:\n",
    "        antall += 1\n",
    "print(antall)"
   ]
  }
 ],
 "metadata": {
  "kernelspec": {
   "display_name": "Python 3",
   "language": "python",
   "name": "python3"
  },
  "language_info": {
   "codemirror_mode": {
    "name": "ipython",
    "version": 3
   },
   "file_extension": ".py",
   "mimetype": "text/x-python",
   "name": "python",
   "nbconvert_exporter": "python",
   "pygments_lexer": "ipython3",
   "version": "3.11.1"
  }
 },
 "nbformat": 4,
 "nbformat_minor": 2
}
