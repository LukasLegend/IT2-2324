{
 "cells": [
  {
   "cell_type": "code",
   "execution_count": 5,
   "metadata": {},
   "outputs": [
    {
     "name": "stdout",
     "output_type": "stream",
     "text": [
      "<class 'list'>\n"
     ]
    }
   ],
   "source": [
    "import json\n",
    " \n",
    "with open(\"sykkelturer.json\", \"r\", encoding=\"utf-8\") as fil:\n",
    "    turer = json.load(fil)\n",
    "print(type(turer))"
   ]
  },
  {
   "cell_type": "code",
   "execution_count": 16,
   "metadata": {},
   "outputs": [
    {
     "name": "stdout",
     "output_type": "stream",
     "text": [
      "('Alexander Kiellands Plass', 537)\n",
      "('Helga Helgesens plass', 503)\n",
      "('Olaf Ryes plass', 495)\n",
      "('Aker Brygge', 492)\n",
      "('Marcus Thranes gate', 476)\n",
      "('Bislett Stadion', 474)\n",
      "('Tøyen skole', 463)\n",
      "('Ringnes Park', 460)\n",
      "('Botanisk Hage sør', 421)\n",
      "('Sjøsiden ved trappen', 385)\n"
     ]
    }
   ],
   "source": [
    "sykkelturer = {}\n",
    "\n",
    "for tur in turer:\n",
    "    startsted = tur[\"start_station_name\"]\n",
    "    if startsted in sykkelturer:\n",
    "        sykkelturer[startsted] += 1\n",
    "    else:\n",
    "        sykkelturer[startsted] = 1\n",
    "\n",
    "\n",
    "turer_liste = list(sykkelturer.items()) # lager en liste av ordboka\n",
    "\n",
    "\n",
    "turer_liste_sortert = sorted(turer_liste, key=lambda tur:tur[1], reverse=True)\n",
    "\n",
    "for i in range(10):\n",
    "    print(turer_liste_sortert[i])\n",
    "\n"
   ]
  },
  {
   "cell_type": "code",
   "execution_count": 23,
   "metadata": {},
   "outputs": [
    {
     "name": "stdout",
     "output_type": "stream",
     "text": [
      "Lengden på turen var 999, start stasjonen var Idioten slutt stasjonen var Trondheimsveien\n",
      "Lengden på turen var 999, start stasjonen var Sofienbergparken nordvest slutt stasjonen var Sjøsiden ved fontenen\n",
      "Lengden på turen var 999, start stasjonen var Lilleborgbanen slutt stasjonen var Sjøsiden ved fontenen\n"
     ]
    }
   ],
   "source": [
    "lengde_tur_sortert = sorted(turer, key=lambda tur: tur[\"duration\"], reverse=True)\n",
    "\n",
    "for i in range(3):\n",
    "    print(f\"Lengden på turen var {lengde_tur_sortert[i]['duration']}, start stasjonen var {lengde_tur_sortert[i]['start_station_name']} slutt stasjonen var {lengde_tur_sortert[i]['end_station_name']}\")"
   ]
  },
  {
   "cell_type": "code",
   "execution_count": 29,
   "metadata": {},
   "outputs": [
    {
     "name": "stdout",
     "output_type": "stream",
     "text": [
      "5.0\n"
     ]
    }
   ],
   "source": [
    "from math import sqrt\n",
    "\n",
    "def pytagoras(a, b):\n",
    "    c = a**2 + b**2\n",
    "    hypotunos = sqrt(c)\n",
    "    return hypotunos\n",
    "\n",
    "#skjønte ikke hvordan jeg skulle regne med latitude og longitude :(\n",
    "\n",
    "\n"
   ]
  }
 ],
 "metadata": {
  "kernelspec": {
   "display_name": "Python 3",
   "language": "python",
   "name": "python3"
  },
  "language_info": {
   "codemirror_mode": {
    "name": "ipython",
    "version": 3
   },
   "file_extension": ".py",
   "mimetype": "text/x-python",
   "name": "python",
   "nbconvert_exporter": "python",
   "pygments_lexer": "ipython3",
   "version": "3.11.1"
  }
 },
 "nbformat": 4,
 "nbformat_minor": 2
}
