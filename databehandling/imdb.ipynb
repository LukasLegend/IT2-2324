{
 "cells": [
  {
   "cell_type": "code",
   "execution_count": 1,
   "metadata": {},
   "outputs": [
    {
     "name": "stdout",
     "output_type": "stream",
     "text": [
      "<class 'list'>\n"
     ]
    }
   ],
   "source": [
    "import json\n",
    "with open(\"imdb.json\") as fil:\n",
    "    data = json.load(fil)\n",
    "print(type(data))"
   ]
  },
  {
   "cell_type": "code",
   "execution_count": 8,
   "metadata": {},
   "outputs": [
    {
     "name": "stdout",
     "output_type": "stream",
     "text": [
      "The Shawshank Redemption 9.3\n"
     ]
    }
   ],
   "source": [
    "høyest = data[0][\"karakter\"]\n",
    "høyest_film = data[0][\"navn\"]\n",
    "for film in data:\n",
    "    if film[\"karakter\"] > høyest:\n",
    "        høyest = film[\"karakter\"]\n",
    "        høyest_film = film[\"navn\"]\n",
    "print(høyest_film, høyest)"
   ]
  },
  {
   "cell_type": "code",
   "execution_count": 10,
   "metadata": {},
   "outputs": [
    {
     "name": "stdout",
     "output_type": "stream",
     "text": [
      "8.32199999999999\n"
     ]
    }
   ],
   "source": [
    "total = 0\n",
    "antall = 0\n",
    "for film in data:\n",
    "    total += film[\"karakter\"]\n",
    "    antall += 1\n",
    "sum = total/antall\n",
    "print(sum)"
   ]
  },
  {
   "cell_type": "code",
   "execution_count": null,
   "metadata": {},
   "outputs": [],
   "source": []
  }
 ],
 "metadata": {
  "kernelspec": {
   "display_name": "Python 3",
   "language": "python",
   "name": "python3"
  },
  "language_info": {
   "codemirror_mode": {
    "name": "ipython",
    "version": 3
   },
   "file_extension": ".py",
   "mimetype": "text/x-python",
   "name": "python",
   "nbconvert_exporter": "python",
   "pygments_lexer": "ipython3",
   "version": "3.11.1"
  }
 },
 "nbformat": 4,
 "nbformat_minor": 2
}
